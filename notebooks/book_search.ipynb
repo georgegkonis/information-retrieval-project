{
 "cells": [
  {
   "cell_type": "code",
   "execution_count": 4,
   "id": "b5c225a297b0bb77",
   "metadata": {
    "collapsed": true,
    "ExecuteTime": {
     "end_time": "2023-09-12T18:34:06.240157700Z",
     "start_time": "2023-09-12T18:34:06.204147300Z"
    }
   },
   "outputs": [],
   "source": [
    "import pandas as pd\n",
    "from elasticsearch import Elasticsearch\n",
    "from utils.index_helper import IndexHelper"
   ]
  },
  {
   "cell_type": "code",
   "execution_count": 5,
   "outputs": [],
   "source": [
    "es = Elasticsearch([{'host': 'localhost', 'port': 9200, 'scheme': 'http'}])"
   ],
   "metadata": {
    "collapsed": false,
    "ExecuteTime": {
     "end_time": "2023-09-12T18:34:06.269613300Z",
     "start_time": "2023-09-12T18:34:06.219374300Z"
    }
   },
   "id": "4750f1de0a356a88"
  },
  {
   "cell_type": "code",
   "execution_count": 6,
   "outputs": [
    {
     "name": "stderr",
     "output_type": "stream",
     "text": [
      "C:\\Users\\georg\\Programming\\DataSpell\\information-retrieval-project\\utils\\index_helper.py:21: ElasticsearchWarning: Elasticsearch built-in security features are not enabled. Without authentication, your cluster could be accessible to anyone. See https://www.elastic.co/guide/en/elasticsearch/reference/7.17/security-minimal-setup.html to enable security.\n",
      "  if self.es.indices.exists(index=index):\n",
      "C:\\Users\\georg\\Programming\\DataSpell\\information-retrieval-project\\utils\\index_helper.py:22: ElasticsearchWarning: Elasticsearch built-in security features are not enabled. Without authentication, your cluster could be accessible to anyone. See https://www.elastic.co/guide/en/elasticsearch/reference/7.17/security-minimal-setup.html to enable security.\n",
      "  self.es.indices.delete(index=index)\n"
     ]
    },
    {
     "name": "stdout",
     "output_type": "stream",
     "text": [
      "Deleting index...\n"
     ]
    },
    {
     "name": "stderr",
     "output_type": "stream",
     "text": [
      "C:\\Users\\georg\\Programming\\DataSpell\\information-retrieval-project\\utils\\index_helper.py:25: ElasticsearchWarning: Elasticsearch built-in security features are not enabled. Without authentication, your cluster could be accessible to anyone. See https://www.elastic.co/guide/en/elasticsearch/reference/7.17/security-minimal-setup.html to enable security.\n",
      "  helpers.bulk(self.es, _index_data(data_dict, index))\n",
      "C:\\Users\\georg\\Programming\\DataSpell\\information-retrieval-project\\utils\\index_helper.py:21: ElasticsearchWarning: Elasticsearch built-in security features are not enabled. Without authentication, your cluster could be accessible to anyone. See https://www.elastic.co/guide/en/elasticsearch/reference/7.17/security-minimal-setup.html to enable security.\n",
      "  if self.es.indices.exists(index=index):\n",
      "C:\\Users\\georg\\Programming\\DataSpell\\information-retrieval-project\\utils\\index_helper.py:22: ElasticsearchWarning: Elasticsearch built-in security features are not enabled. Without authentication, your cluster could be accessible to anyone. See https://www.elastic.co/guide/en/elasticsearch/reference/7.17/security-minimal-setup.html to enable security.\n",
      "  self.es.indices.delete(index=index)\n"
     ]
    },
    {
     "name": "stdout",
     "output_type": "stream",
     "text": [
      "Deleting index...\n"
     ]
    },
    {
     "name": "stderr",
     "output_type": "stream",
     "text": [
      "C:\\Users\\georg\\Programming\\DataSpell\\information-retrieval-project\\utils\\index_helper.py:25: ElasticsearchWarning: Elasticsearch built-in security features are not enabled. Without authentication, your cluster could be accessible to anyone. See https://www.elastic.co/guide/en/elasticsearch/reference/7.17/security-minimal-setup.html to enable security.\n",
      "  helpers.bulk(self.es, _index_data(data_dict, index))\n"
     ]
    }
   ],
   "source": [
    "books_df = pd.read_csv('../data/preprocessed/pp_books.csv')\n",
    "ratings_df = pd.read_csv('../data/initial/ratings.csv')\n",
    "\n",
    "ih = IndexHelper(es)\n",
    "\n",
    "ih.bulk_index(data=books_df, index='books')\n",
    "ih.bulk_index(data=ratings_df, index='ratings')"
   ],
   "metadata": {
    "collapsed": false,
    "ExecuteTime": {
     "end_time": "2023-09-12T18:38:13.269978Z",
     "start_time": "2023-09-12T18:34:06.231212700Z"
    }
   },
   "id": "cd6d0155143a72c5"
  },
  {
   "cell_type": "code",
   "execution_count": 7,
   "outputs": [],
   "source": [
    "def search_books(size: int, query: str, uid: int, percent: float = 0.1):\n",
    "    fields = [\"book_author\", \"book_title\", \"summary\", \"category\", \"publisher\"]\n",
    "    if query.isnumeric():\n",
    "        fields.append(\"year_of_publication\")\n",
    "        \n",
    "    books_res = es.search(\n",
    "        index='books',\n",
    "        size=size,\n",
    "        query={\n",
    "            \"multi_match\": {\n",
    "                \"query\": query,\n",
    "                \"type\": \"most_fields\",\n",
    "                \"fields\": fields\n",
    "            }\n",
    "        },\n",
    "        scroll='2m'\n",
    "    )\n",
    "    \n",
    "    while len(books_res['hits']['hits']):\n",
    "        scroll_id = books_res['_scroll_id']\n",
    "        books_res = es.scroll(scroll_id=scroll_id, scroll='2m')\n",
    "        if len(books_res['hits']['hits']) == 0:\n",
    "            break\n",
    "    \n",
    "    book_hits = books_res['hits']['hits']\n",
    "    isbn_list = [book_hit['_source']['isbn'] for book_hit in book_hits]\n",
    "\n",
    "    ratings_res = es.search(\n",
    "        index='ratings',\n",
    "        size=size,\n",
    "        query={\n",
    "            \"bool\": {\n",
    "                \"must\": [\n",
    "                    {\"term\": {\"uid\": uid}},\n",
    "                    {\"terms\": {\"isbn\": isbn_list}}\n",
    "                ]\n",
    "            }\n",
    "        })\n",
    "    rating_hits = ratings_res['hits']['hits']\n",
    "    rated_isbn_dict = {\n",
    "        rating_hit['_source']['isbn']: rating_hit['_source']['rating']\n",
    "        for rating_hit in rating_hits\n",
    "    }\n",
    "\n",
    "    for book_hit in book_hits:\n",
    "        isbn = book_hit['_source']['isbn']\n",
    "        if isbn in rated_isbn_dict:\n",
    "            book_hit['_score'] += 2 * rated_isbn_dict[isbn]\n",
    "\n",
    "    book_hits.sort(key=lambda x: x['_score'], reverse=True)\n",
    "\n",
    "    book_hits = book_hits[:int(len(book_hits) * percent)]\n",
    "\n",
    "    return book_hits"
   ],
   "metadata": {
    "collapsed": false,
    "ExecuteTime": {
     "end_time": "2023-09-12T18:38:13.285779800Z",
     "start_time": "2023-09-12T18:38:13.275090100Z"
    }
   },
   "id": "38950af3b0b3e57f"
  },
  {
   "cell_type": "code",
   "execution_count": 10,
   "outputs": [
    {
     "name": "stderr",
     "output_type": "stream",
     "text": [
      "C:\\Users\\georg\\AppData\\Local\\Temp\\ipykernel_3388\\3729612359.py:6: ElasticsearchWarning: Elasticsearch built-in security features are not enabled. Without authentication, your cluster could be accessible to anyone. See https://www.elastic.co/guide/en/elasticsearch/reference/7.17/security-minimal-setup.html to enable security.\n",
      "  books_res = es.search(\n",
      "C:\\Users\\georg\\AppData\\Local\\Temp\\ipykernel_3388\\3729612359.py:19: ElasticsearchWarning: Elasticsearch built-in security features are not enabled. Without authentication, your cluster could be accessible to anyone. See https://www.elastic.co/guide/en/elasticsearch/reference/7.17/security-minimal-setup.html to enable security.\n",
      "  ratings_res = es.search(\n"
     ]
    }
   ],
   "source": [
    "term = input(\"Enter search term: \")\n",
    "user_id = input(\"Enter user ID: \")\n",
    "\n",
    "results = search_books(size=50, query=term, uid=user_id)"
   ],
   "metadata": {
    "collapsed": false,
    "ExecuteTime": {
     "end_time": "2023-09-12T18:39:57.140178200Z",
     "start_time": "2023-09-12T18:39:51.230889Z"
    }
   },
   "id": "d5328eea7723f123"
  },
  {
   "cell_type": "code",
   "execution_count": 11,
   "outputs": [
    {
     "data": {
      "text/plain": "   score        isbn                                         book_title  \\\n0  23.70  1579541364  Pets, Part of Family: The Total Care Guide for...   \n1  22.13  1889540994  The Wild Life of Pets: A Rubes Cartoon Book (R...   \n2  21.91  157223217X                              Just Labs (Just Pets)   \n3  21.34  0716616327                     All About Pets (Inspector Mcq)   \n4  18.41  0816737959                                   How to Draw Pets   \n\n       book_author                                            summary  \\\n0    Gary Burghoff  The companion volume to the new Public Televis...   \n1      Leigh Rubin  Ever wonder about the secret lives of pets? Or...   \n2  Dale C. Spartas  We took our lead titles from the tremendously ...   \n3    Kathleen Kain  Special mouse detective McQ leads readers on a...   \n4     Linda Murray  Provides step-by-step instructions for drawing...   \n\n         category           publisher  year_of_publication  \n0            pets        Rodale Press                 1999  \n1            pets        BowTie Press                 2003  \n2            pets  Willow Creek Press                 1999  \n3            pets      World Book Inc                 1995  \n4  animals in art        Watermill Pr                 1995  ",
      "text/html": "<div>\n<style scoped>\n    .dataframe tbody tr th:only-of-type {\n        vertical-align: middle;\n    }\n\n    .dataframe tbody tr th {\n        vertical-align: top;\n    }\n\n    .dataframe thead th {\n        text-align: right;\n    }\n</style>\n<table border=\"1\" class=\"dataframe\">\n  <thead>\n    <tr style=\"text-align: right;\">\n      <th></th>\n      <th>score</th>\n      <th>isbn</th>\n      <th>book_title</th>\n      <th>book_author</th>\n      <th>summary</th>\n      <th>category</th>\n      <th>publisher</th>\n      <th>year_of_publication</th>\n    </tr>\n  </thead>\n  <tbody>\n    <tr>\n      <th>0</th>\n      <td>23.70</td>\n      <td>1579541364</td>\n      <td>Pets, Part of Family: The Total Care Guide for...</td>\n      <td>Gary Burghoff</td>\n      <td>The companion volume to the new Public Televis...</td>\n      <td>pets</td>\n      <td>Rodale Press</td>\n      <td>1999</td>\n    </tr>\n    <tr>\n      <th>1</th>\n      <td>22.13</td>\n      <td>1889540994</td>\n      <td>The Wild Life of Pets: A Rubes Cartoon Book (R...</td>\n      <td>Leigh Rubin</td>\n      <td>Ever wonder about the secret lives of pets? Or...</td>\n      <td>pets</td>\n      <td>BowTie Press</td>\n      <td>2003</td>\n    </tr>\n    <tr>\n      <th>2</th>\n      <td>21.91</td>\n      <td>157223217X</td>\n      <td>Just Labs (Just Pets)</td>\n      <td>Dale C. Spartas</td>\n      <td>We took our lead titles from the tremendously ...</td>\n      <td>pets</td>\n      <td>Willow Creek Press</td>\n      <td>1999</td>\n    </tr>\n    <tr>\n      <th>3</th>\n      <td>21.34</td>\n      <td>0716616327</td>\n      <td>All About Pets (Inspector Mcq)</td>\n      <td>Kathleen Kain</td>\n      <td>Special mouse detective McQ leads readers on a...</td>\n      <td>pets</td>\n      <td>World Book Inc</td>\n      <td>1995</td>\n    </tr>\n    <tr>\n      <th>4</th>\n      <td>18.41</td>\n      <td>0816737959</td>\n      <td>How to Draw Pets</td>\n      <td>Linda Murray</td>\n      <td>Provides step-by-step instructions for drawing...</td>\n      <td>animals in art</td>\n      <td>Watermill Pr</td>\n      <td>1995</td>\n    </tr>\n  </tbody>\n</table>\n</div>"
     },
     "execution_count": 11,
     "metadata": {},
     "output_type": "execute_result"
    }
   ],
   "source": [
    "df_columns = ['score', 'isbn', 'book_title', 'book_author', 'summary', 'category', 'publisher', 'year_of_publication']\n",
    "df_data = []\n",
    "for item in results:\n",
    "    df_data.append([\n",
    "        round(item['_score'], 2),\n",
    "        item['_source']['isbn'],\n",
    "        item['_source']['book_title'],\n",
    "        item['_source']['book_author'],\n",
    "        item['_source']['summary'],\n",
    "        item['_source']['category'],\n",
    "        item['_source']['publisher'],\n",
    "        item['_source']['year_of_publication']\n",
    "    ])\n",
    "\n",
    "pd.DataFrame(columns=df_columns, data=df_data)"
   ],
   "metadata": {
    "collapsed": false,
    "ExecuteTime": {
     "end_time": "2023-09-12T18:39:59.248945400Z",
     "start_time": "2023-09-12T18:39:59.229378Z"
    }
   },
   "id": "47df8d6a85838fc0"
  }
 ],
 "metadata": {
  "kernelspec": {
   "display_name": "Python 3",
   "language": "python",
   "name": "python3"
  },
  "language_info": {
   "codemirror_mode": {
    "name": "ipython",
    "version": 2
   },
   "file_extension": ".py",
   "mimetype": "text/x-python",
   "name": "python",
   "nbconvert_exporter": "python",
   "pygments_lexer": "ipython2",
   "version": "2.7.6"
  }
 },
 "nbformat": 4,
 "nbformat_minor": 5
}
