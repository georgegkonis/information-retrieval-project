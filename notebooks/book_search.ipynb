{
 "cells": [
  {
   "cell_type": "code",
   "execution_count": null,
   "id": "b5c225a297b0bb77",
   "metadata": {
    "collapsed": true
   },
   "outputs": [],
   "source": [
    "import pandas as pd\n",
    "from elasticsearch import Elasticsearch, helpers"
   ]
  },
  {
   "cell_type": "code",
   "execution_count": null,
   "outputs": [],
   "source": [
    "es = Elasticsearch([{'host': 'localhost', 'port': 9200, 'scheme': 'http'}])"
   ],
   "metadata": {
    "collapsed": false
   },
   "id": "4750f1de0a356a88"
  },
  {
   "cell_type": "code",
   "execution_count": null,
   "outputs": [],
   "source": [
    "def index_data(records: {}, index: str):\n",
    "    for record in records:\n",
    "        yield {\n",
    "            \"_index\": index,\n",
    "            \"_source\": record\n",
    "        }"
   ],
   "metadata": {
    "collapsed": false
   },
   "id": "e336e998b4c74eb1"
  },
  {
   "cell_type": "code",
   "execution_count": null,
   "outputs": [],
   "source": [
    "book_records = pd.read_csv('../data/pp_books.csv').to_dict(orient='records')\n",
    "helpers.bulk(es, index_data(book_records, 'books'))"
   ],
   "metadata": {
    "collapsed": false
   },
   "id": "cd6d0155143a72c5"
  },
  {
   "cell_type": "code",
   "execution_count": null,
   "outputs": [],
   "source": [
    "rating_records = pd.read_csv('../data/ratings.csv').to_dict(orient='records')\n",
    "helpers.bulk(es, index_data(rating_records, 'ratings'))"
   ],
   "metadata": {
    "collapsed": false
   },
   "id": "72e62f899839191d"
  },
  {
   "cell_type": "code",
   "execution_count": null,
   "outputs": [],
   "source": [
    "def search_books(size: int, query: str, uid: int, percent: float = 0.1):\n",
    "    fields = [\"book_author\", \"book_title\", \"summary\", \"category\", \"publisher\"]\n",
    "    if query.isnumeric():\n",
    "        fields.append(\"year_of_publication\")\n",
    "        \n",
    "    books_res = es.search(\n",
    "        index='books',\n",
    "        size=size,\n",
    "        query={\n",
    "            \"multi_match\": {\n",
    "                \"query\": query,\n",
    "                \"type\": \"most_fields\",\n",
    "                \"fields\": fields\n",
    "            }\n",
    "        })\n",
    "    book_hits = books_res['hits']['hits']\n",
    "    isbn_list = [book_hit['_source']['isbn'] for book_hit in book_hits]\n",
    "\n",
    "    ratings_res = es.search(\n",
    "        index='ratings',\n",
    "        size=size,\n",
    "        query={\n",
    "            \"bool\": {\n",
    "                \"must\": [\n",
    "                    {\"term\": {\"uid\": uid}},\n",
    "                    {\"terms\": {\"isbn\": isbn_list}}\n",
    "                ]\n",
    "            }\n",
    "        })\n",
    "    rating_hits = ratings_res['hits']['hits']\n",
    "    rated_isbn_dict = {\n",
    "        rating_hit['_source']['isbn']: rating_hit['_source']['rating']\n",
    "        for rating_hit in rating_hits\n",
    "    }\n",
    "\n",
    "    for book_hit in book_hits:\n",
    "        isbn = book_hit['_source']['isbn']\n",
    "        if isbn in rated_isbn_dict:\n",
    "            book_hit['_score'] += 2 * rated_isbn_dict[isbn]\n",
    "\n",
    "    book_hits.sort(key=lambda x: x['_score'], reverse=True)\n",
    "\n",
    "    book_hits = book_hits[:int(len(book_hits) * percent)]\n",
    "\n",
    "    return book_hits"
   ],
   "metadata": {
    "collapsed": false
   },
   "id": "38950af3b0b3e57f"
  },
  {
   "cell_type": "code",
   "execution_count": null,
   "outputs": [],
   "source": [
    "term = input(\"Enter search term: \")\n",
    "user_id = input(\"Enter user ID: \")\n",
    "\n",
    "results = search_books(size=50, query=term, uid=user_id)"
   ],
   "metadata": {
    "collapsed": false
   },
   "id": "d5328eea7723f123"
  },
  {
   "cell_type": "code",
   "execution_count": null,
   "outputs": [],
   "source": [
    "df_columns = ['score', 'isbn', 'book_title', 'book_author', 'summary', 'category', 'publisher', 'year_of_publication']\n",
    "df_data = []\n",
    "for item in results:\n",
    "    df_data.append([\n",
    "        round(item['_score'], 2),\n",
    "        item['_source']['isbn'],\n",
    "        item['_source']['book_title'],\n",
    "        item['_source']['book_author'],\n",
    "        item['_source']['summary'],\n",
    "        item['_source']['category'],\n",
    "        item['_source']['publisher'],\n",
    "        item['_source']['year_of_publication']\n",
    "    ])\n",
    "\n",
    "pd.DataFrame(columns=df_columns, data=df_data)"
   ],
   "metadata": {
    "collapsed": false
   },
   "id": "47df8d6a85838fc0"
  }
 ],
 "metadata": {
  "kernelspec": {
   "display_name": "Python 3",
   "language": "python",
   "name": "python3"
  },
  "language_info": {
   "codemirror_mode": {
    "name": "ipython",
    "version": 2
   },
   "file_extension": ".py",
   "mimetype": "text/x-python",
   "name": "python",
   "nbconvert_exporter": "python",
   "pygments_lexer": "ipython2",
   "version": "2.7.6"
  }
 },
 "nbformat": 4,
 "nbformat_minor": 5
}
