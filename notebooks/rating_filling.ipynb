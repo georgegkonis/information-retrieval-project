{
 "cells": [
  {
   "cell_type": "code",
   "execution_count": 66,
   "id": "854cd2f85b239311",
   "metadata": {
    "collapsed": true,
    "ExecuteTime": {
     "end_time": "2023-09-12T18:18:44.132478400Z",
     "start_time": "2023-09-12T18:18:44.109298300Z"
    }
   },
   "outputs": [],
   "source": [
    "import pandas as pd\n",
    "from elasticsearch import Elasticsearch, helpers\n",
    "from utils.index_helper import IndexHelper"
   ]
  },
  {
   "cell_type": "code",
   "execution_count": null,
   "outputs": [],
   "source": [
    "es = Elasticsearch([{'host': 'localhost', 'port': 9200, 'scheme': 'http'}])"
   ],
   "metadata": {
    "collapsed": false
   },
   "id": "715b448f526625ce"
  },
  {
   "cell_type": "code",
   "execution_count": null,
   "outputs": [],
   "source": [
    "clustered_ratings_df = pd.read_csv('../data/produced/clustered_ratings.csv')\n",
    "clustered_ratings_df"
   ],
   "metadata": {
    "collapsed": false
   },
   "id": "6d3309770782eeb3"
  },
  {
   "cell_type": "code",
   "execution_count": null,
   "outputs": [],
   "source": [
    "unique_clusters = len(clustered_ratings_df['cluster'].unique())\n",
    "print(f'Unique clusters: {unique_clusters}')\n",
    "unique_isbns = len(clustered_ratings_df['isbn'].unique())\n",
    "print(f'Unique ISBNs: {unique_isbns}')"
   ],
   "metadata": {
    "collapsed": false
   },
   "id": "4bcbf10a38d8c181"
  },
  {
   "cell_type": "code",
   "execution_count": null,
   "outputs": [],
   "source": [
    "def index_data(records: {}, index: str):\n",
    "    for record in records:\n",
    "        yield {\n",
    "            \"_index\": index,\n",
    "            \"_source\": record\n",
    "        }"
   ],
   "metadata": {
    "collapsed": false
   },
   "id": "c2896864c9c1190c"
  },
  {
   "cell_type": "code",
   "execution_count": null,
   "outputs": [],
   "source": [
    "clustered_ratings_dict = clustered_ratings_df.to_dict('records')\n",
    "helpers.bulk(es, index_data(clustered_ratings_dict, 'clustered_ratings'))"
   ],
   "metadata": {
    "collapsed": false
   },
   "id": "169757c1244aec74"
  },
  {
   "cell_type": "code",
   "execution_count": null,
   "outputs": [],
   "source": [
    "response = es.search(\n",
    "    index=\"clustered_ratings\",\n",
    "    aggs={\n",
    "        \"cluster_agg\": {\n",
    "            \"terms\": {\n",
    "                \"field\": \"cluster\",\n",
    "                \"size\": unique_clusters\n",
    "            },\n",
    "            \"aggs\": {\n",
    "                \"isbn_agg\": {\n",
    "                    \"terms\": {\n",
    "                        \"field\": \"isbn.keyword\",\n",
    "                        \"size\": unique_isbns\n",
    "                    },\n",
    "                    \"aggs\": {\n",
    "                        \"avg_rating\": {\n",
    "                            \"avg\": {\n",
    "                                \"field\": \"rating\"\n",
    "                            }\n",
    "                        }\n",
    "                    }\n",
    "                }\n",
    "            }\n",
    "        }\n",
    "    })"
   ],
   "metadata": {
    "collapsed": false
   },
   "id": "db7ee9f43ec70d0b"
  },
  {
   "cell_type": "code",
   "execution_count": 63,
   "outputs": [
    {
     "data": {
      "text/plain": "       cluster        isbn  avg_rating\n0            1  0971880107        1.28\n1            1  044023722X        4.70\n2            1  0312195516        6.25\n3            1  0060928336        4.87\n4            1  0452282152        5.25\n...        ...         ...         ...\n28216        5  1842550942        8.00\n28217        5  1853260495        0.00\n28218        5  1853260622        8.00\n28219        5  1892958015        0.00\n28220        5  9628606727       10.00\n\n[28221 rows x 3 columns]",
      "text/html": "<div>\n<style scoped>\n    .dataframe tbody tr th:only-of-type {\n        vertical-align: middle;\n    }\n\n    .dataframe tbody tr th {\n        vertical-align: top;\n    }\n\n    .dataframe thead th {\n        text-align: right;\n    }\n</style>\n<table border=\"1\" class=\"dataframe\">\n  <thead>\n    <tr style=\"text-align: right;\">\n      <th></th>\n      <th>cluster</th>\n      <th>isbn</th>\n      <th>avg_rating</th>\n    </tr>\n  </thead>\n  <tbody>\n    <tr>\n      <th>0</th>\n      <td>1</td>\n      <td>0971880107</td>\n      <td>1.28</td>\n    </tr>\n    <tr>\n      <th>1</th>\n      <td>1</td>\n      <td>044023722X</td>\n      <td>4.70</td>\n    </tr>\n    <tr>\n      <th>2</th>\n      <td>1</td>\n      <td>0312195516</td>\n      <td>6.25</td>\n    </tr>\n    <tr>\n      <th>3</th>\n      <td>1</td>\n      <td>0060928336</td>\n      <td>4.87</td>\n    </tr>\n    <tr>\n      <th>4</th>\n      <td>1</td>\n      <td>0452282152</td>\n      <td>5.25</td>\n    </tr>\n    <tr>\n      <th>...</th>\n      <td>...</td>\n      <td>...</td>\n      <td>...</td>\n    </tr>\n    <tr>\n      <th>28216</th>\n      <td>5</td>\n      <td>1842550942</td>\n      <td>8.00</td>\n    </tr>\n    <tr>\n      <th>28217</th>\n      <td>5</td>\n      <td>1853260495</td>\n      <td>0.00</td>\n    </tr>\n    <tr>\n      <th>28218</th>\n      <td>5</td>\n      <td>1853260622</td>\n      <td>8.00</td>\n    </tr>\n    <tr>\n      <th>28219</th>\n      <td>5</td>\n      <td>1892958015</td>\n      <td>0.00</td>\n    </tr>\n    <tr>\n      <th>28220</th>\n      <td>5</td>\n      <td>9628606727</td>\n      <td>10.00</td>\n    </tr>\n  </tbody>\n</table>\n<p>28221 rows × 3 columns</p>\n</div>"
     },
     "execution_count": 63,
     "metadata": {},
     "output_type": "execute_result"
    }
   ],
   "source": [
    "avg_ratings_df = pd.DataFrame([{\n",
    "    \"cluster\": cluster_bucket['key'],\n",
    "    \"isbn\": isbn_bucket['key'],\n",
    "    \"avg_rating\": isbn_bucket['avg_rating']['value']\n",
    "} for cluster_bucket in response['aggregations']['cluster_agg']['buckets']\n",
    "    for isbn_bucket in cluster_bucket['isbn_agg']['buckets']])\n",
    "\n",
    "avg_ratings_df['avg_rating'] = avg_ratings_df['avg_rating'].round(2)\n",
    "\n",
    "avg_ratings_df"
   ],
   "metadata": {
    "collapsed": false,
    "ExecuteTime": {
     "end_time": "2023-09-12T18:04:45.847531600Z",
     "start_time": "2023-09-12T18:04:45.685755200Z"
    }
   },
   "id": "204fad5c87dc8255"
  },
  {
   "cell_type": "code",
   "execution_count": null,
   "outputs": [],
   "source": [
    "avg_ratings_df.to_csv('../data/produced/avg_ratings.csv', index=False)"
   ],
   "metadata": {
    "collapsed": false
   },
   "id": "3ff88d3371d69a0a"
  },
  {
   "cell_type": "code",
   "execution_count": 67,
   "outputs": [
    {
     "name": "stderr",
     "output_type": "stream",
     "text": [
      "C:\\Users\\georg\\Programming\\DataSpell\\information-retrieval-project\\utils\\es_index.py:21: ElasticsearchWarning: Elasticsearch built-in security features are not enabled. Without authentication, your cluster could be accessible to anyone. See https://www.elastic.co/guide/en/elasticsearch/reference/7.17/security-minimal-setup.html to enable security.\n",
      "  if self.es.indices.exists(index=index):\n",
      "C:\\Users\\georg\\Programming\\DataSpell\\information-retrieval-project\\utils\\es_index.py:22: ElasticsearchWarning: Elasticsearch built-in security features are not enabled. Without authentication, your cluster could be accessible to anyone. See https://www.elastic.co/guide/en/elasticsearch/reference/7.17/security-minimal-setup.html to enable security.\n",
      "  self.es.indices.delete(index=index)\n"
     ]
    },
    {
     "name": "stdout",
     "output_type": "stream",
     "text": [
      "Deleting index...\n"
     ]
    },
    {
     "name": "stderr",
     "output_type": "stream",
     "text": [
      "C:\\Users\\georg\\Programming\\DataSpell\\information-retrieval-project\\utils\\es_index.py:25: ElasticsearchWarning: Elasticsearch built-in security features are not enabled. Without authentication, your cluster could be accessible to anyone. See https://www.elastic.co/guide/en/elasticsearch/reference/7.17/security-minimal-setup.html to enable security.\n",
      "  helpers.bulk(self.es, _index_data(data_dict, index))\n"
     ]
    }
   ],
   "source": [
    "ih = IndexHelper(es)\n",
    "ih.bulk_index(data=avg_ratings_df, index='avg_ratings')"
   ],
   "metadata": {
    "collapsed": false,
    "ExecuteTime": {
     "end_time": "2023-09-12T18:18:53.622729700Z",
     "start_time": "2023-09-12T18:18:47.073558500Z"
    }
   },
   "id": "1bdb29af2593a444"
  },
  {
   "cell_type": "code",
   "execution_count": null,
   "outputs": [],
   "source": [],
   "metadata": {
    "collapsed": false
   },
   "id": "a720ec29b856ecf9"
  }
 ],
 "metadata": {
  "kernelspec": {
   "display_name": "Python 3",
   "language": "python",
   "name": "python3"
  },
  "language_info": {
   "codemirror_mode": {
    "name": "ipython",
    "version": 2
   },
   "file_extension": ".py",
   "mimetype": "text/x-python",
   "name": "python",
   "nbconvert_exporter": "python",
   "pygments_lexer": "ipython2",
   "version": "2.7.6"
  }
 },
 "nbformat": 4,
 "nbformat_minor": 5
}
