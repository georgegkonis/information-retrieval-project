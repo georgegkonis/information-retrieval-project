{
 "cells": [
  {
   "cell_type": "code",
   "execution_count": 1,
   "id": "b5c225a297b0bb77",
   "metadata": {
    "collapsed": true,
    "ExecuteTime": {
     "end_time": "2023-09-04T18:32:33.622844600Z",
     "start_time": "2023-09-04T18:32:32.742168300Z"
    }
   },
   "outputs": [],
   "source": [
    "import utils.util as util\n",
    "import pandas as pd\n",
    "from elasticsearch import Elasticsearch, helpers"
   ]
  },
  {
   "cell_type": "code",
   "execution_count": 3,
   "outputs": [],
   "source": [
    "es = Elasticsearch([{'host': 'localhost', 'port': 9200, 'scheme': 'http'}])"
   ],
   "metadata": {
    "collapsed": false,
    "ExecuteTime": {
     "end_time": "2023-09-04T18:32:37.178428300Z",
     "start_time": "2023-09-04T18:32:37.171576100Z"
    }
   },
   "id": "4750f1de0a356a88"
  },
  {
   "cell_type": "code",
   "execution_count": null,
   "outputs": [],
   "source": [
    "book_records = pd.read_csv('../data/pp_books.csv').to_dict(orient='records')\n",
    "helpers.bulk(es, util.index_data(book_records, 'books'))"
   ],
   "metadata": {
    "collapsed": false
   },
   "id": "cd6d0155143a72c5"
  },
  {
   "cell_type": "code",
   "execution_count": null,
   "outputs": [],
   "source": [
    "user_records = pd.read_csv('../data/pp_users.csv').to_dict(orient='records')\n",
    "helpers.bulk(es, util.index_data(user_records, 'users'))"
   ],
   "metadata": {
    "collapsed": false
   },
   "id": "5969ed0ca9a88e85"
  },
  {
   "cell_type": "code",
   "execution_count": null,
   "outputs": [],
   "source": [
    "rating_records = pd.read_csv('../data/ratings.csv').to_dict(orient='records')\n",
    "helpers.bulk(es, util.index_data(rating_records, 'ratings'))"
   ],
   "metadata": {
    "collapsed": false
   },
   "id": "72e62f899839191d"
  },
  {
   "cell_type": "code",
   "execution_count": 4,
   "outputs": [
    {
     "name": "stderr",
     "output_type": "stream",
     "text": [
      "C:\\Users\\georg\\Programming\\DataSpell\\information-retrieval-project\\utils\\util.py:28: ElasticsearchWarning: Elasticsearch built-in security features are not enabled. Without authentication, your cluster could be accessible to anyone. See https://www.elastic.co/guide/en/elasticsearch/reference/7.17/security-minimal-setup.html to enable security.\n",
      "  res = es.search(index=\"books\", query={\n",
      "C:\\Users\\georg\\Programming\\DataSpell\\information-retrieval-project\\utils\\util.py:42: ElasticsearchWarning: Elasticsearch built-in security features are not enabled. Without authentication, your cluster could be accessible to anyone. See https://www.elastic.co/guide/en/elasticsearch/reference/7.17/security-minimal-setup.html to enable security.\n",
      "  rating_res = es.search(index=\"ratings\", query={\n"
     ]
    },
    {
     "name": "stdout",
     "output_type": "stream",
     "text": [
      "Flu: The Story of the Great Influenza Pandemic of 1918 and the Search for the Virus That Caused It - Gina Bari Kolata - 34.236188 - 14.236188 - 10\n",
      "77 Ways to Beat Colds and Flu: A People's Medical Society Book - Charles B. Inlander - 16.168459 - 16.168459 - 0\n",
      "Prince Charming'S Child (Man Of Month/Anniversary Happily Ever After) (Silhouette Desire, 1225) - Jennifer Greene - 13.1298065 - 13.1298065 - 0\n",
      "Jane Brody's Cold and Flu Fighter - Jane E. Brody - 10.885446 - 10.885446 - 0\n",
      "Toot! - Taro Gomi - 10.286701 - 10.286701 - 0\n",
      "Prisoner of Vampires - Nancy Garden - 9.64414 - 9.64414 - 0\n",
      "Good Switch, Bad Switch (Sabrina the Teenage Witch, Book 3) - David Cody Weiss - 9.212542 - 9.212542 - 0\n",
      "If This Is A Lecture, How Long Will It Be ? : A For Better or For Worse Collection - Lynn Johnston - 9.212542 - 9.212542 - 0\n",
      "Elizabeth Betrayed (Sweet Valley High, No 89) - Francine Pascal - 8.81792 - 8.81792 - 0\n",
      "Dian Dincin Buchmans Herbal Medicine Nat - Dian Buchman - 8.455716 - 8.455716 - 0\n"
     ]
    }
   ],
   "source": [
    "term = input(\"Enter search term: \")\n",
    "user_id = input(\"Enter user ID: \")\n",
    "\n",
    "results = util.search_books(es, term, user_id)\n",
    "\n",
    "for book, score in results:\n",
    "    print(f\"{book['book_title']} - {score}\")"
   ],
   "metadata": {
    "collapsed": false,
    "ExecuteTime": {
     "end_time": "2023-09-04T18:32:47.050432400Z",
     "start_time": "2023-09-04T18:32:38.547276100Z"
    }
   },
   "id": "42d9ca9d2c2281d0"
  },
  {
   "cell_type": "markdown",
   "source": [],
   "metadata": {
    "collapsed": false
   },
   "id": "b0d9de5a30f5ff8f"
  }
 ],
 "metadata": {
  "kernelspec": {
   "display_name": "Python 3",
   "language": "python",
   "name": "python3"
  },
  "language_info": {
   "codemirror_mode": {
    "name": "ipython",
    "version": 2
   },
   "file_extension": ".py",
   "mimetype": "text/x-python",
   "name": "python",
   "nbconvert_exporter": "python",
   "pygments_lexer": "ipython2",
   "version": "2.7.6"
  }
 },
 "nbformat": 4,
 "nbformat_minor": 5
}
