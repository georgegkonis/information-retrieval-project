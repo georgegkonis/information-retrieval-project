{
 "cells": [
  {
   "cell_type": "code",
   "execution_count": 1,
   "id": "b5c225a297b0bb77",
   "metadata": {
    "collapsed": true,
    "ExecuteTime": {
     "end_time": "2023-09-04T13:47:42.780985400Z",
     "start_time": "2023-09-04T13:47:40.111506900Z"
    }
   },
   "outputs": [],
   "source": [
    "import pandas as pd\n",
    "from elasticsearch import Elasticsearch, helpers"
   ]
  },
  {
   "cell_type": "code",
   "execution_count": 2,
   "outputs": [],
   "source": [
    "users_df = pd.read_csv('../data/users.csv')\n",
    "books_df = pd.read_csv('../data/books.csv')\n",
    "ratings_df = pd.read_csv('../data/ratings.csv')"
   ],
   "metadata": {
    "collapsed": false,
    "ExecuteTime": {
     "end_time": "2023-09-04T13:47:44.303231900Z",
     "start_time": "2023-09-04T13:47:42.783786200Z"
    }
   },
   "id": "8ca55045e1543388"
  },
  {
   "cell_type": "code",
   "execution_count": 3,
   "outputs": [
    {
     "name": "stdout",
     "output_type": "stream",
     "text": [
      "<class 'pandas.core.frame.DataFrame'>\n",
      "RangeIndex: 206447 entries, 0 to 206446\n",
      "Data columns (total 3 columns):\n",
      " #   Column    Non-Null Count   Dtype  \n",
      "---  ------    --------------   -----  \n",
      " 0   uid       206447 non-null  int64  \n",
      " 1   location  206447 non-null  object \n",
      " 2   age       122881 non-null  float64\n",
      "dtypes: float64(1), int64(1), object(1)\n",
      "memory usage: 4.7+ MB\n"
     ]
    }
   ],
   "source": [
    "users_df.info()"
   ],
   "metadata": {
    "collapsed": false,
    "ExecuteTime": {
     "end_time": "2023-09-04T13:47:44.329726900Z",
     "start_time": "2023-09-04T13:47:44.277223800Z"
    }
   },
   "id": "d5ffcf8f49cc60ac"
  },
  {
   "cell_type": "code",
   "execution_count": 4,
   "outputs": [
    {
     "name": "stdout",
     "output_type": "stream",
     "text": [
      "<class 'pandas.core.frame.DataFrame'>\n",
      "RangeIndex: 134692 entries, 0 to 134691\n",
      "Data columns (total 7 columns):\n",
      " #   Column               Non-Null Count   Dtype \n",
      "---  ------               --------------   ----- \n",
      " 0   isbn                 134692 non-null  object\n",
      " 1   book_title           134692 non-null  object\n",
      " 2   book_author          134692 non-null  object\n",
      " 3   year_of_publication  134692 non-null  int64 \n",
      " 4   publisher            134692 non-null  object\n",
      " 5   summary              134692 non-null  object\n",
      " 6   category             134692 non-null  object\n",
      "dtypes: int64(1), object(6)\n",
      "memory usage: 7.2+ MB\n"
     ]
    }
   ],
   "source": [
    "books_df.info()"
   ],
   "metadata": {
    "collapsed": false,
    "ExecuteTime": {
     "end_time": "2023-09-04T13:47:44.460631800Z",
     "start_time": "2023-09-04T13:47:44.325727800Z"
    }
   },
   "id": "c3546c901350bab2"
  },
  {
   "cell_type": "code",
   "execution_count": 5,
   "outputs": [
    {
     "name": "stdout",
     "output_type": "stream",
     "text": [
      "<class 'pandas.core.frame.DataFrame'>\n",
      "RangeIndex: 1031175 entries, 0 to 1031174\n",
      "Data columns (total 3 columns):\n",
      " #   Column  Non-Null Count    Dtype \n",
      "---  ------  --------------    ----- \n",
      " 0   uid     1031175 non-null  int64 \n",
      " 1   isbn    1031175 non-null  object\n",
      " 2   rating  1031175 non-null  int64 \n",
      "dtypes: int64(2), object(1)\n",
      "memory usage: 23.6+ MB\n"
     ]
    }
   ],
   "source": [
    "ratings_df.info()"
   ],
   "metadata": {
    "collapsed": false,
    "ExecuteTime": {
     "end_time": "2023-09-04T13:47:44.466330800Z",
     "start_time": "2023-09-04T13:47:44.390776500Z"
    }
   },
   "id": "64ef4703dfea5c84"
  },
  {
   "cell_type": "code",
   "execution_count": 6,
   "outputs": [
    {
     "ename": "TypeError",
     "evalue": "NodeConfig.__init__() missing 1 required positional argument: 'scheme'",
     "output_type": "error",
     "traceback": [
      "\u001B[1;31m---------------------------------------------------------------------------\u001B[0m",
      "\u001B[1;31mTypeError\u001B[0m                                 Traceback (most recent call last)",
      "Cell \u001B[1;32mIn[6], line 1\u001B[0m\n\u001B[1;32m----> 1\u001B[0m es \u001B[38;5;241m=\u001B[39m Elasticsearch([{\u001B[38;5;124m'\u001B[39m\u001B[38;5;124mhost\u001B[39m\u001B[38;5;124m'\u001B[39m: \u001B[38;5;124m'\u001B[39m\u001B[38;5;124mlocalhost\u001B[39m\u001B[38;5;124m'\u001B[39m, \u001B[38;5;124m'\u001B[39m\u001B[38;5;124mport\u001B[39m\u001B[38;5;124m'\u001B[39m: \u001B[38;5;241m9200\u001B[39m}])\n",
      "File \u001B[1;32m~\\AppData\\Local\\Anaconda\\envs\\information-retrieval-project\\Lib\\site-packages\\elasticsearch\\_sync\\client\\__init__.py:331\u001B[0m, in \u001B[0;36mElasticsearch.__init__\u001B[1;34m(self, hosts, cloud_id, api_key, basic_auth, bearer_auth, opaque_id, headers, connections_per_node, http_compress, verify_certs, ca_certs, client_cert, client_key, ssl_assert_hostname, ssl_assert_fingerprint, ssl_version, ssl_context, ssl_show_warn, transport_class, request_timeout, node_class, node_pool_class, randomize_nodes_in_pool, node_selector_class, dead_node_backoff_factor, max_dead_node_backoff, serializer, serializers, default_mimetype, max_retries, retry_on_status, retry_on_timeout, sniff_on_start, sniff_before_requests, sniff_on_node_failure, sniff_timeout, min_delay_between_sniffing, sniffed_node_callback, meta_header, timeout, randomize_hosts, host_info_callback, sniffer_timeout, sniff_on_connection_fail, http_auth, maxsize, _transport)\u001B[0m\n\u001B[0;32m    328\u001B[0m         requests_session_auth \u001B[38;5;241m=\u001B[39m http_auth\n\u001B[0;32m    329\u001B[0m         http_auth \u001B[38;5;241m=\u001B[39m DEFAULT\n\u001B[1;32m--> 331\u001B[0m node_configs \u001B[38;5;241m=\u001B[39m client_node_configs(\n\u001B[0;32m    332\u001B[0m     hosts,\n\u001B[0;32m    333\u001B[0m     cloud_id\u001B[38;5;241m=\u001B[39mcloud_id,\n\u001B[0;32m    334\u001B[0m     requests_session_auth\u001B[38;5;241m=\u001B[39mrequests_session_auth,\n\u001B[0;32m    335\u001B[0m     connections_per_node\u001B[38;5;241m=\u001B[39mconnections_per_node,\n\u001B[0;32m    336\u001B[0m     http_compress\u001B[38;5;241m=\u001B[39mhttp_compress,\n\u001B[0;32m    337\u001B[0m     verify_certs\u001B[38;5;241m=\u001B[39mverify_certs,\n\u001B[0;32m    338\u001B[0m     ca_certs\u001B[38;5;241m=\u001B[39mca_certs,\n\u001B[0;32m    339\u001B[0m     client_cert\u001B[38;5;241m=\u001B[39mclient_cert,\n\u001B[0;32m    340\u001B[0m     client_key\u001B[38;5;241m=\u001B[39mclient_key,\n\u001B[0;32m    341\u001B[0m     ssl_assert_hostname\u001B[38;5;241m=\u001B[39mssl_assert_hostname,\n\u001B[0;32m    342\u001B[0m     ssl_assert_fingerprint\u001B[38;5;241m=\u001B[39mssl_assert_fingerprint,\n\u001B[0;32m    343\u001B[0m     ssl_version\u001B[38;5;241m=\u001B[39mssl_version,\n\u001B[0;32m    344\u001B[0m     ssl_context\u001B[38;5;241m=\u001B[39mssl_context,\n\u001B[0;32m    345\u001B[0m     ssl_show_warn\u001B[38;5;241m=\u001B[39mssl_show_warn,\n\u001B[0;32m    346\u001B[0m )\n\u001B[0;32m    347\u001B[0m transport_kwargs: t\u001B[38;5;241m.\u001B[39mDict[\u001B[38;5;28mstr\u001B[39m, t\u001B[38;5;241m.\u001B[39mAny] \u001B[38;5;241m=\u001B[39m {}\n\u001B[0;32m    348\u001B[0m \u001B[38;5;28;01mif\u001B[39;00m node_class \u001B[38;5;129;01mis\u001B[39;00m \u001B[38;5;129;01mnot\u001B[39;00m DEFAULT:\n",
      "File \u001B[1;32m~\\AppData\\Local\\Anaconda\\envs\\information-retrieval-project\\Lib\\site-packages\\elasticsearch\\_sync\\client\\utils.py:105\u001B[0m, in \u001B[0;36mclient_node_configs\u001B[1;34m(hosts, cloud_id, requests_session_auth, **kwargs)\u001B[0m\n\u001B[0;32m    103\u001B[0m \u001B[38;5;28;01melse\u001B[39;00m:\n\u001B[0;32m    104\u001B[0m     \u001B[38;5;28;01massert\u001B[39;00m hosts \u001B[38;5;129;01mis\u001B[39;00m \u001B[38;5;129;01mnot\u001B[39;00m \u001B[38;5;28;01mNone\u001B[39;00m\n\u001B[1;32m--> 105\u001B[0m     node_configs \u001B[38;5;241m=\u001B[39m hosts_to_node_configs(hosts)\n\u001B[0;32m    107\u001B[0m \u001B[38;5;66;03m# Remove all values which are 'DEFAULT' to avoid overwriting actual defaults.\u001B[39;00m\n\u001B[0;32m    108\u001B[0m node_options \u001B[38;5;241m=\u001B[39m {k: v \u001B[38;5;28;01mfor\u001B[39;00m k, v \u001B[38;5;129;01min\u001B[39;00m kwargs\u001B[38;5;241m.\u001B[39mitems() \u001B[38;5;28;01mif\u001B[39;00m v \u001B[38;5;129;01mis\u001B[39;00m \u001B[38;5;129;01mnot\u001B[39;00m DEFAULT}\n",
      "File \u001B[1;32m~\\AppData\\Local\\Anaconda\\envs\\information-retrieval-project\\Lib\\site-packages\\elasticsearch\\_sync\\client\\utils.py:154\u001B[0m, in \u001B[0;36mhosts_to_node_configs\u001B[1;34m(hosts)\u001B[0m\n\u001B[0;32m    151\u001B[0m     node_configs\u001B[38;5;241m.\u001B[39mappend(url_to_node_config(host))\n\u001B[0;32m    153\u001B[0m \u001B[38;5;28;01melif\u001B[39;00m \u001B[38;5;28misinstance\u001B[39m(host, Mapping):\n\u001B[1;32m--> 154\u001B[0m     node_configs\u001B[38;5;241m.\u001B[39mappend(host_mapping_to_node_config(host))\n\u001B[0;32m    155\u001B[0m \u001B[38;5;28;01melse\u001B[39;00m:\n\u001B[0;32m    156\u001B[0m     \u001B[38;5;28;01mraise\u001B[39;00m \u001B[38;5;167;01mValueError\u001B[39;00m(\n\u001B[0;32m    157\u001B[0m         \u001B[38;5;124m\"\u001B[39m\u001B[38;5;124m'\u001B[39m\u001B[38;5;124mhosts\u001B[39m\u001B[38;5;124m'\u001B[39m\u001B[38;5;124m must be a list of URLs, NodeConfigs, or dictionaries\u001B[39m\u001B[38;5;124m\"\u001B[39m\n\u001B[0;32m    158\u001B[0m     )\n",
      "File \u001B[1;32m~\\AppData\\Local\\Anaconda\\envs\\information-retrieval-project\\Lib\\site-packages\\elasticsearch\\_sync\\client\\utils.py:221\u001B[0m, in \u001B[0;36mhost_mapping_to_node_config\u001B[1;34m(host)\u001B[0m\n\u001B[0;32m    214\u001B[0m     warnings\u001B[38;5;241m.\u001B[39mwarn(\n\u001B[0;32m    215\u001B[0m         \u001B[38;5;124m\"\u001B[39m\u001B[38;5;124mThe \u001B[39m\u001B[38;5;124m'\u001B[39m\u001B[38;5;124murl_prefix\u001B[39m\u001B[38;5;124m'\u001B[39m\u001B[38;5;124m option is deprecated in favor of \u001B[39m\u001B[38;5;124m'\u001B[39m\u001B[38;5;124mpath_prefix\u001B[39m\u001B[38;5;124m'\u001B[39m\u001B[38;5;124m\"\u001B[39m,\n\u001B[0;32m    216\u001B[0m         category\u001B[38;5;241m=\u001B[39m\u001B[38;5;167;01mDeprecationWarning\u001B[39;00m,\n\u001B[0;32m    217\u001B[0m         stacklevel\u001B[38;5;241m=\u001B[39mwarn_stacklevel(),\n\u001B[0;32m    218\u001B[0m     )\n\u001B[0;32m    219\u001B[0m     options[\u001B[38;5;124m\"\u001B[39m\u001B[38;5;124mpath_prefix\u001B[39m\u001B[38;5;124m\"\u001B[39m] \u001B[38;5;241m=\u001B[39m options\u001B[38;5;241m.\u001B[39mpop(\u001B[38;5;124m\"\u001B[39m\u001B[38;5;124murl_prefix\u001B[39m\u001B[38;5;124m\"\u001B[39m)\n\u001B[1;32m--> 221\u001B[0m \u001B[38;5;28;01mreturn\u001B[39;00m NodeConfig(\u001B[38;5;241m*\u001B[39m\u001B[38;5;241m*\u001B[39moptions)\n",
      "\u001B[1;31mTypeError\u001B[0m: NodeConfig.__init__() missing 1 required positional argument: 'scheme'"
     ]
    }
   ],
   "source": [
    "es = Elasticsearch([{'host': 'localhost', 'port': 9200}])"
   ],
   "metadata": {
    "collapsed": false,
    "ExecuteTime": {
     "end_time": "2023-09-04T13:47:46.497335900Z",
     "start_time": "2023-09-04T13:47:44.441679900Z"
    }
   },
   "id": "4750f1de0a356a88"
  },
  {
   "cell_type": "code",
   "execution_count": null,
   "outputs": [],
   "source": [
    "books_df['summary'] = books_df['summary'].str.replace(\"\\n\", \" \").str.strip()\n",
    "books_df['category'] = books_df['category'].apply(lambda x: eval(x)[0] if isinstance(x, str) else x)\n",
    "\n",
    "records = books_df.to_dict(orient='records')\n",
    "\n",
    "# Helper function to index data\n",
    "def index_data(records):\n",
    "    for record in records:\n",
    "        yield {\n",
    "            \"_index\": \"books\",  # Name of the index\n",
    "            \"_source\": record\n",
    "        }\n",
    "\n",
    "# Bulk index the data\n",
    "helpers.bulk(es, index_data(records))"
   ],
   "metadata": {
    "collapsed": false,
    "ExecuteTime": {
     "start_time": "2023-09-04T13:47:46.498334700Z"
    }
   },
   "id": "initial_id"
  }
 ],
 "metadata": {
  "kernelspec": {
   "display_name": "Python 3",
   "language": "python",
   "name": "python3"
  },
  "language_info": {
   "codemirror_mode": {
    "name": "ipython",
    "version": 2
   },
   "file_extension": ".py",
   "mimetype": "text/x-python",
   "name": "python",
   "nbconvert_exporter": "python",
   "pygments_lexer": "ipython2",
   "version": "2.7.6"
  }
 },
 "nbformat": 4,
 "nbformat_minor": 5
}
