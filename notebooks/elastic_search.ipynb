{
 "cells": [
  {
   "cell_type": "code",
   "execution_count": 9,
   "id": "b5c225a297b0bb77",
   "metadata": {
    "collapsed": true,
    "ExecuteTime": {
     "end_time": "2023-09-04T17:40:56.825848700Z",
     "start_time": "2023-09-04T17:40:56.814446400Z"
    }
   },
   "outputs": [],
   "source": [
    "import utils.util as util\n",
    "import pandas as pd\n",
    "from elasticsearch import Elasticsearch, helpers"
   ]
  },
  {
   "cell_type": "code",
   "execution_count": 10,
   "outputs": [],
   "source": [
    "es = Elasticsearch([{'host': 'localhost', 'port': 9200, 'scheme': 'http'}])"
   ],
   "metadata": {
    "collapsed": false,
    "ExecuteTime": {
     "end_time": "2023-09-04T17:40:56.827853500Z",
     "start_time": "2023-09-04T17:40:56.819800400Z"
    }
   },
   "id": "4750f1de0a356a88"
  },
  {
   "cell_type": "code",
   "execution_count": 11,
   "outputs": [
    {
     "name": "stderr",
     "output_type": "stream",
     "text": [
      "C:\\Users\\georg\\AppData\\Local\\Temp\\ipykernel_23068\\1018303138.py:2: ElasticsearchWarning: Elasticsearch built-in security features are not enabled. Without authentication, your cluster could be accessible to anyone. See https://www.elastic.co/guide/en/elasticsearch/reference/7.17/security-minimal-setup.html to enable security.\n",
      "  helpers.bulk(es, util.index_data(book_records, 'books'))\n"
     ]
    },
    {
     "data": {
      "text/plain": "(134692, [])"
     },
     "execution_count": 11,
     "metadata": {},
     "output_type": "execute_result"
    }
   ],
   "source": [
    "book_records = pd.read_csv('../data/pp_books.csv').to_dict(orient='records')\n",
    "helpers.bulk(es, util.index_data(book_records, 'books'))"
   ],
   "metadata": {
    "collapsed": false,
    "ExecuteTime": {
     "end_time": "2023-09-04T17:41:17.605388600Z",
     "start_time": "2023-09-04T17:40:56.828855600Z"
    }
   },
   "id": "cd6d0155143a72c5"
  },
  {
   "cell_type": "code",
   "execution_count": 12,
   "outputs": [
    {
     "name": "stdout",
     "output_type": "stream",
     "text": [
      "{'index': {'_index': 'users', '_type': '_doc', '_id': 'CctIYYoBtM9dJ2x11-wa', 'status': 400, 'error': {'type': 'mapper_parsing_exception', 'reason': 'failed to parse', 'caused_by': {'type': 'json_parse_exception', 'reason': \"Non-standard token 'NaN': enable `JsonReadFeature.ALLOW_NON_NUMERIC_NUMBERS` to allow\\n at [Source: (ByteArrayInputStream); line: 1, column: 49]\"}}, 'data': {'uid': 19, 'age': 14.0, 'city': 'weston', 'state': nan, 'country': nan}}}\n",
      "{'index': {'_index': 'users', '_type': '_doc', '_id': 'FMtIYYoBtM9dJ2x11-wa', 'status': 400, 'error': {'type': 'mapper_parsing_exception', 'reason': 'failed to parse', 'caused_by': {'type': 'json_parse_exception', 'reason': \"Non-standard token 'NaN': enable `JsonReadFeature.ALLOW_NON_NUMERIC_NUMBERS` to allow\\n at [Source: (ByteArrayInputStream); line: 1, column: 51]\"}}, 'data': {'uid': 31, 'age': 20.0, 'city': 'shanghai', 'state': nan, 'country': 'china'}}}\n",
      "{'index': {'_index': 'users', '_type': '_doc', '_id': 'GctIYYoBtM9dJ2x11-wa', 'status': 400, 'error': {'type': 'mapper_parsing_exception', 'reason': 'failed to parse', 'caused_by': {'type': 'json_parse_exception', 'reason': \"Non-standard token 'NaN': enable `JsonReadFeature.ALLOW_NON_NUMERIC_NUMBERS` to allow\\n at [Source: (ByteArrayInputStream); line: 1, column: 56]\"}}, 'data': {'uid': 37, 'age': 23.0, 'city': 'san sebastian', 'state': nan, 'country': 'spain'}}}\n",
      "{'index': {'_index': 'users', '_type': '_doc', '_id': 'H8tIYYoBtM9dJ2x11-wa', 'status': 400, 'error': {'type': 'mapper_parsing_exception', 'reason': 'failed to parse', 'caused_by': {'type': 'json_parse_exception', 'reason': \"Non-standard token 'NaN': enable `JsonReadFeature.ALLOW_NON_NUMERIC_NUMBERS` to allow\\n at [Source: (ByteArrayInputStream); line: 1, column: 49]\"}}, 'data': {'uid': 45, 'age': -1.0, 'city': 'berlin', 'state': nan, 'country': 'germany'}}}\n",
      "{'index': {'_index': 'users', '_type': '_doc', '_id': 'MMtIYYoBtM9dJ2x11-wa', 'status': 400, 'error': {'type': 'mapper_parsing_exception', 'reason': 'failed to parse', 'caused_by': {'type': 'json_parse_exception', 'reason': \"Non-standard token 'NaN': enable `JsonReadFeature.ALLOW_NON_NUMERIC_NUMBERS` to allow\\n at [Source: (ByteArrayInputStream); line: 1, column: 32]\"}}, 'data': {'uid': 65, 'age': -1.0, 'city': nan, 'state': nan, 'country': 'australia'}}}\n",
      "{'index': {'_index': 'users', '_type': '_doc', '_id': 'NstIYYoBtM9dJ2x11-wa', 'status': 400, 'error': {'type': 'mapper_parsing_exception', 'reason': 'failed to parse', 'caused_by': {'type': 'json_parse_exception', 'reason': \"Non-standard token 'NaN': enable `JsonReadFeature.ALLOW_NON_NUMERIC_NUMBERS` to allow\\n at [Source: (ByteArrayInputStream); line: 1, column: 52]\"}}, 'data': {'uid': 74, 'age': 30.0, 'city': 'amsterdam', 'state': nan, 'country': 'netherlands'}}}\n",
      "{'index': {'_index': 'users', '_type': '_doc', '_id': 'QstIYYoBtM9dJ2x11-wa', 'status': 400, 'error': {'type': 'mapper_parsing_exception', 'reason': 'failed to parse', 'caused_by': {'type': 'json_parse_exception', 'reason': \"Non-standard token 'NaN': enable `JsonReadFeature.ALLOW_NON_NUMERIC_NUMBERS` to allow\\n at [Source: (ByteArrayInputStream); line: 1, column: 60]\"}}, 'data': {'uid': 91, 'age': -1.0, 'city': 'toronto/newmarket', 'state': nan, 'country': nan}}}\n",
      "{'index': {'_index': 'users', '_type': '_doc', '_id': 'cctIYYoBtM9dJ2x11-wa', 'status': 400, 'error': {'type': 'mapper_parsing_exception', 'reason': 'failed to parse', 'caused_by': {'type': 'json_parse_exception', 'reason': \"Non-standard token 'NaN': enable `JsonReadFeature.ALLOW_NON_NUMERIC_NUMBERS` to allow\\n at [Source: (ByteArrayInputStream); line: 1, column: 53]\"}}, 'data': {'uid': 149, 'age': -1.0, 'city': 'ljubljana', 'state': nan, 'country': 'slovenia'}}}\n",
      "{'index': {'_index': 'users', '_type': '_doc', '_id': 'eMtIYYoBtM9dJ2x11-wa', 'status': 400, 'error': {'type': 'mapper_parsing_exception', 'reason': 'failed to parse', 'caused_by': {'type': 'json_parse_exception', 'reason': \"Non-standard token 'NaN': enable `JsonReadFeature.ALLOW_NON_NUMERIC_NUMBERS` to allow\\n at [Source: (ByteArrayInputStream); line: 1, column: 52]\"}}, 'data': {'uid': 156, 'age': 20.0, 'city': 'sarajevo', 'state': nan, 'country': 'bosnia and herzegovina'}}}\n",
      "{'index': {'_index': 'users', '_type': '_doc', '_id': 'iMtIYYoBtM9dJ2x11-wa', 'status': 400, 'error': {'type': 'mapper_parsing_exception', 'reason': 'failed to parse', 'caused_by': {'type': 'json_parse_exception', 'reason': \"Non-standard token 'NaN': enable `JsonReadFeature.ALLOW_NON_NUMERIC_NUMBERS` to allow\\n at [Source: (ByteArrayInputStream); line: 1, column: 49]\"}}, 'data': {'uid': 175, 'age': -1.0, 'city': 'porto', 'state': nan, 'country': 'portugal'}}}\n",
      "{'index': {'_index': 'users', '_type': '_doc', '_id': 'ictIYYoBtM9dJ2x11-wa', 'status': 400, 'error': {'type': 'mapper_parsing_exception', 'reason': 'failed to parse', 'caused_by': {'type': 'json_parse_exception', 'reason': \"Non-standard token 'NaN': enable `JsonReadFeature.ALLOW_NON_NUMERIC_NUMBERS` to allow\\n at [Source: (ByteArrayInputStream); line: 1, column: 53]\"}}, 'data': {'uid': 177, 'age': 46.0, 'city': 'amsterdam', 'state': nan, 'country': 'netherlands'}}}\n",
      "{'index': {'_index': 'users', '_type': '_doc', '_id': 'jMtIYYoBtM9dJ2x11-wa', 'status': 400, 'error': {'type': 'mapper_parsing_exception', 'reason': 'failed to parse', 'caused_by': {'type': 'json_parse_exception', 'reason': \"Non-standard token 'NaN': enable `JsonReadFeature.ALLOW_NON_NUMERIC_NUMBERS` to allow\\n at [Source: (ByteArrayInputStream); line: 1, column: 56]\"}}, 'data': {'uid': 180, 'age': -1.0, 'city': 'copenhagen n', 'state': nan, 'country': 'denmark'}}}\n",
      "{'index': {'_index': 'users', '_type': '_doc', '_id': 'kMtIYYoBtM9dJ2x11-wa', 'status': 400, 'error': {'type': 'mapper_parsing_exception', 'reason': 'failed to parse', 'caused_by': {'type': 'json_parse_exception', 'reason': \"Non-standard token 'NaN': enable `JsonReadFeature.ALLOW_NON_NUMERIC_NUMBERS` to allow\\n at [Source: (ByteArrayInputStream); line: 1, column: 71]\"}}, 'data': {'uid': 187, 'age': 29.0, 'city': 'mcas futenma fpo ap okinawa', 'state': nan, 'country': 'usa'}}}\n",
      "{'index': {'_index': 'users', '_type': '_doc', '_id': 'kstIYYoBtM9dJ2x11-wa', 'status': 400, 'error': {'type': 'mapper_parsing_exception', 'reason': 'failed to parse', 'caused_by': {'type': 'json_parse_exception', 'reason': \"Non-standard token 'NaN': enable `JsonReadFeature.ALLOW_NON_NUMERIC_NUMBERS` to allow\\n at [Source: (ByteArrayInputStream); line: 1, column: 56]\"}}, 'data': {'uid': 189, 'age': 31.0, 'city': 'blankenberge', 'state': nan, 'country': 'belgium'}}}\n",
      "{'index': {'_index': 'users', '_type': '_doc', '_id': 'pstIYYoBtM9dJ2x11-wa', 'status': 400, 'error': {'type': 'mapper_parsing_exception', 'reason': 'failed to parse', 'caused_by': {'type': 'json_parse_exception', 'reason': \"Non-standard token 'NaN': enable `JsonReadFeature.ALLOW_NON_NUMERIC_NUMBERS` to allow\\n at [Source: (ByteArrayInputStream); line: 1, column: 50]\"}}, 'data': {'uid': 212, 'age': 21.0, 'city': 'manila', 'state': nan, 'country': 'philippines'}}}\n",
      "{'index': {'_index': 'users', '_type': '_doc', '_id': 't8tIYYoBtM9dJ2x11-wa', 'status': 400, 'error': {'type': 'mapper_parsing_exception', 'reason': 'failed to parse', 'caused_by': {'type': 'json_parse_exception', 'reason': \"Non-standard token 'NaN': enable `JsonReadFeature.ALLOW_NON_NUMERIC_NUMBERS` to allow\\n at [Source: (ByteArrayInputStream); line: 1, column: 51]\"}}, 'data': {'uid': 234, 'age': 25.0, 'city': 'joensuu', 'state': nan, 'country': 'finland'}}}\n",
      "{'index': {'_index': 'users', '_type': '_doc', '_id': 'y8tIYYoBtM9dJ2x11-wa', 'status': 400, 'error': {'type': 'mapper_parsing_exception', 'reason': 'failed to parse', 'caused_by': {'type': 'json_parse_exception', 'reason': \"Non-standard token 'NaN': enable `JsonReadFeature.ALLOW_NON_NUMERIC_NUMBERS` to allow\\n at [Source: (ByteArrayInputStream); line: 1, column: 50]\"}}, 'data': {'uid': 264, 'age': 23.0, 'city': 'taipei', 'state': nan, 'country': 'taiwan'}}}\n",
      "{'index': {'_index': 'users', '_type': '_doc', '_id': 'zMtIYYoBtM9dJ2x11-wa', 'status': 400, 'error': {'type': 'mapper_parsing_exception', 'reason': 'failed to parse', 'caused_by': {'type': 'json_parse_exception', 'reason': \"Non-standard token 'NaN': enable `JsonReadFeature.ALLOW_NON_NUMERIC_NUMBERS` to allow\\n at [Source: (ByteArrayInputStream); line: 1, column: 51]\"}}, 'data': {'uid': 265, 'age': 24.0, 'city': 'tianjin', 'state': nan, 'country': 'china'}}}\n",
      "{'index': {'_index': 'users', '_type': '_doc', '_id': 'z8tIYYoBtM9dJ2x11-wa', 'status': 400, 'error': {'type': 'mapper_parsing_exception', 'reason': 'failed to parse', 'caused_by': {'type': 'json_parse_exception', 'reason': \"Non-standard token 'NaN': enable `JsonReadFeature.ALLOW_NON_NUMERIC_NUMBERS` to allow\\n at [Source: (ByteArrayInputStream); line: 1, column: 50]\"}}, 'data': {'uid': 268, 'age': -1.0, 'city': 'århus', 'state': nan, 'country': 'denmark'}}}\n",
      "{'index': {'_index': 'users', '_type': '_doc', '_id': '9stIYYoBtM9dJ2x11-wa', 'status': 400, 'error': {'type': 'mapper_parsing_exception', 'reason': 'failed to parse', 'caused_by': {'type': 'json_parse_exception', 'reason': \"Non-standard token 'NaN': enable `JsonReadFeature.ALLOW_NON_NUMERIC_NUMBERS` to allow\\n at [Source: (ByteArrayInputStream); line: 1, column: 62]\"}}, 'data': {'uid': 312, 'age': -1.0, 'city': 'lk', 'state': 'jlk', 'country': nan}}}\n",
      "{'index': {'_index': 'users', '_type': '_doc', '_id': '98tIYYoBtM9dJ2x11-wa', 'status': 400, 'error': {'type': 'mapper_parsing_exception', 'reason': 'failed to parse', 'caused_by': {'type': 'json_parse_exception', 'reason': \"Non-standard token 'NaN': enable `JsonReadFeature.ALLOW_NON_NUMERIC_NUMBERS` to allow\\n at [Source: (ByteArrayInputStream); line: 1, column: 50]\"}}, 'data': {'uid': 314, 'age': 28.0, 'city': 'århus', 'state': nan, 'country': 'denmark'}}}\n",
      "{'index': {'_index': 'users', '_type': '_doc', '_id': '-stIYYoBtM9dJ2x11-wa', 'status': 400, 'error': {'type': 'mapper_parsing_exception', 'reason': 'failed to parse', 'caused_by': {'type': 'json_parse_exception', 'reason': \"Non-standard token 'NaN': enable `JsonReadFeature.ALLOW_NON_NUMERIC_NUMBERS` to allow\\n at [Source: (ByteArrayInputStream); line: 1, column: 50]\"}}, 'data': {'uid': 318, 'age': -1.0, 'city': 'berlin', 'state': nan, 'country': nan}}}\n",
      "{'index': {'_index': 'users', '_type': '_doc', '_id': '-8tIYYoBtM9dJ2x11-wa', 'status': 400, 'error': {'type': 'mapper_parsing_exception', 'reason': 'failed to parse', 'caused_by': {'type': 'json_parse_exception', 'reason': \"Non-standard token 'NaN': enable `JsonReadFeature.ALLOW_NON_NUMERIC_NUMBERS` to allow\\n at [Source: (ByteArrayInputStream); line: 1, column: 61]\"}}, 'data': {'uid': 319, 'age': 32.0, 'city': '1407 københavn k', 'state': nan, 'country': 'denmark'}}}\n",
      "{'index': {'_index': 'users', '_type': '_doc', '_id': 'BMtIYYoBtM9dJ2x11-0a', 'status': 400, 'error': {'type': 'mapper_parsing_exception', 'reason': 'failed to parse', 'caused_by': {'type': 'json_parse_exception', 'reason': \"Non-standard token 'NaN': enable `JsonReadFeature.ALLOW_NON_NUMERIC_NUMBERS` to allow\\n at [Source: (ByteArrayInputStream); line: 1, column: 55]\"}}, 'data': {'uid': 330, 'age': -1.0, 'city': 'quezon city', 'state': nan, 'country': 'philippines'}}}\n",
      "{'index': {'_index': 'users', '_type': '_doc', '_id': 'FMtIYYoBtM9dJ2x11-0a', 'status': 400, 'error': {'type': 'mapper_parsing_exception', 'reason': 'failed to parse', 'caused_by': {'type': 'json_parse_exception', 'reason': \"Non-standard token 'NaN': enable `JsonReadFeature.ALLOW_NON_NUMERIC_NUMBERS` to allow\\n at [Source: (ByteArrayInputStream); line: 1, column: 55]\"}}, 'data': {'uid': 349, 'age': -1.0, 'city': 'sønderborg', 'state': nan, 'country': 'denmark'}}}\n",
      "{'index': {'_index': 'users', '_type': '_doc', '_id': 'GMtIYYoBtM9dJ2x11-0a', 'status': 400, 'error': {'type': 'mapper_parsing_exception', 'reason': 'failed to parse', 'caused_by': {'type': 'json_parse_exception', 'reason': \"Non-standard token 'NaN': enable `JsonReadFeature.ALLOW_NON_NUMERIC_NUMBERS` to allow\\n at [Source: (ByteArrayInputStream); line: 1, column: 50]\"}}, 'data': {'uid': 353, 'age': 41.0, 'city': 'madrid', 'state': nan, 'country': 'spain'}}}\n",
      "{'index': {'_index': 'users', '_type': '_doc', '_id': 'LMtIYYoBtM9dJ2x11-0a', 'status': 400, 'error': {'type': 'mapper_parsing_exception', 'reason': 'failed to parse', 'caused_by': {'type': 'json_parse_exception', 'reason': \"Non-standard token 'NaN': enable `JsonReadFeature.ALLOW_NON_NUMERIC_NUMBERS` to allow\\n at [Source: (ByteArrayInputStream); line: 1, column: 49]\"}}, 'data': {'uid': 385, 'age': -1.0, 'city': 'paris', 'state': nan, 'country': 'france'}}}\n",
      "{'index': {'_index': 'users', '_type': '_doc', '_id': 'MstIYYoBtM9dJ2x11-0a', 'status': 400, 'error': {'type': 'mapper_parsing_exception', 'reason': 'failed to parse', 'caused_by': {'type': 'json_parse_exception', 'reason': \"Non-standard token 'NaN': enable `JsonReadFeature.ALLOW_NON_NUMERIC_NUMBERS` to allow\\n at [Source: (ByteArrayInputStream); line: 1, column: 50]\"}}, 'data': {'uid': 395, 'age': 24.0, 'city': 'madrid', 'state': nan, 'country': 'spain'}}}\n",
      "{'index': {'_index': 'users', '_type': '_doc', '_id': 'VstIYYoBtM9dJ2x11-0a', 'status': 400, 'error': {'type': 'mapper_parsing_exception', 'reason': 'failed to parse', 'caused_by': {'type': 'json_parse_exception', 'reason': \"Non-standard token 'NaN': enable `JsonReadFeature.ALLOW_NON_NUMERIC_NUMBERS` to allow\\n at [Source: (ByteArrayInputStream); line: 1, column: 50]\"}}, 'data': {'uid': 442, 'age': 24.0, 'city': 'london', 'state': nan, 'country': 'united kingdom'}}}\n",
      "{'index': {'_index': 'users', '_type': '_doc', '_id': 'ZctIYYoBtM9dJ2x11-0a', 'status': 400, 'error': {'type': 'mapper_parsing_exception', 'reason': 'failed to parse', 'caused_by': {'type': 'json_parse_exception', 'reason': \"Non-standard token 'NaN': enable `JsonReadFeature.ALLOW_NON_NUMERIC_NUMBERS` to allow\\n at [Source: (ByteArrayInputStream); line: 1, column: 53]\"}}, 'data': {'uid': 461, 'age': 15.0, 'city': 'singapore', 'state': nan, 'country': 'singapore'}}}\n",
      "{'index': {'_index': 'users', '_type': '_doc', '_id': 'nstIYYoBtM9dJ2x11-0a', 'status': 400, 'error': {'type': 'mapper_parsing_exception', 'reason': 'failed to parse', 'caused_by': {'type': 'json_parse_exception', 'reason': \"Non-standard token 'NaN': enable `JsonReadFeature.ALLOW_NON_NUMERIC_NUMBERS` to allow\\n at [Source: (ByteArrayInputStream); line: 1, column: 72]\"}}, 'data': {'uid': 537, 'age': -1.0, 'city': 'davis', 'state': 'california', 'country': nan}}}\n",
      "{'index': {'_index': 'users', '_type': '_doc', '_id': 'qstIYYoBtM9dJ2x11-0a', 'status': 400, 'error': {'type': 'mapper_parsing_exception', 'reason': 'failed to parse', 'caused_by': {'type': 'json_parse_exception', 'reason': \"Non-standard token 'NaN': enable `JsonReadFeature.ALLOW_NON_NUMERIC_NUMBERS` to allow\\n at [Source: (ByteArrayInputStream); line: 1, column: 63]\"}}, 'data': {'uid': 553, 'age': 16.0, 'city': 'nykøbing sjælland', 'state': nan, 'country': 'denmark'}}}\n",
      "{'index': {'_index': 'users', '_type': '_doc', '_id': 'r8tIYYoBtM9dJ2x11-0a', 'status': 400, 'error': {'type': 'mapper_parsing_exception', 'reason': 'failed to parse', 'caused_by': {'type': 'json_parse_exception', 'reason': \"Non-standard token 'NaN': enable `JsonReadFeature.ALLOW_NON_NUMERIC_NUMBERS` to allow\\n at [Source: (ByteArrayInputStream); line: 1, column: 51]\"}}, 'data': {'uid': 558, 'age': -1.0, 'city': 'burnaby', 'state': nan, 'country': nan}}}\n",
      "{'index': {'_index': 'users', '_type': '_doc', '_id': 'uMtIYYoBtM9dJ2x11-0a', 'status': 400, 'error': {'type': 'mapper_parsing_exception', 'reason': 'failed to parse', 'caused_by': {'type': 'json_parse_exception', 'reason': \"Non-standard token 'NaN': enable `JsonReadFeature.ALLOW_NON_NUMERIC_NUMBERS` to allow\\n at [Source: (ByteArrayInputStream); line: 1, column: 50]\"}}, 'data': {'uid': 571, 'age': 23.0, 'city': 'diemen', 'state': nan, 'country': 'netherlands'}}}\n",
      "{'index': {'_index': 'users', '_type': '_doc', '_id': 'wMtIYYoBtM9dJ2x11-0a', 'status': 400, 'error': {'type': 'mapper_parsing_exception', 'reason': 'failed to parse', 'caused_by': {'type': 'json_parse_exception', 'reason': \"Non-standard token 'NaN': enable `JsonReadFeature.ALLOW_NON_NUMERIC_NUMBERS` to allow\\n at [Source: (ByteArrayInputStream); line: 1, column: 58]\"}}, 'data': {'uid': 579, 'age': 29.0, 'city': 'tiruchirapalli', 'state': nan, 'country': 'india'}}}\n",
      "{'index': {'_index': 'users', '_type': '_doc', '_id': 'ystIYYoBtM9dJ2x11-0a', 'status': 400, 'error': {'type': 'mapper_parsing_exception', 'reason': 'failed to parse', 'caused_by': {'type': 'json_parse_exception', 'reason': \"Non-standard token 'NaN': enable `JsonReadFeature.ALLOW_NON_NUMERIC_NUMBERS` to allow\\n at [Source: (ByteArrayInputStream); line: 1, column: 52]\"}}, 'data': {'uid': 590, 'age': -1.0, 'city': 'münster', 'state': nan, 'country': 'germany'}}}\n",
      "{'index': {'_index': 'users', '_type': '_doc', '_id': '3MtIYYoBtM9dJ2x11-0a', 'status': 400, 'error': {'type': 'mapper_parsing_exception', 'reason': 'failed to parse', 'caused_by': {'type': 'json_parse_exception', 'reason': \"Non-standard token 'NaN': enable `JsonReadFeature.ALLOW_NON_NUMERIC_NUMBERS` to allow\\n at [Source: (ByteArrayInputStream); line: 1, column: 52]\"}}, 'data': {'uid': 610, 'age': 19.0, 'city': 'valencia', 'state': nan, 'country': 'spain'}}}\n",
      "{'index': {'_index': 'users', '_type': '_doc', '_id': '38tIYYoBtM9dJ2x11-0a', 'status': 400, 'error': {'type': 'mapper_parsing_exception', 'reason': 'failed to parse', 'caused_by': {'type': 'json_parse_exception', 'reason': \"Non-standard token 'NaN': enable `JsonReadFeature.ALLOW_NON_NUMERIC_NUMBERS` to allow\\n at [Source: (ByteArrayInputStream); line: 1, column: 49]\"}}, 'data': {'uid': 613, 'age': 1.0, 'city': 'ankara', 'state': nan, 'country': 'turkey'}}}\n",
      "{'index': {'_index': 'users', '_type': '_doc', '_id': '4stIYYoBtM9dJ2x11-0a', 'status': 400, 'error': {'type': 'mapper_parsing_exception', 'reason': 'failed to parse', 'caused_by': {'type': 'json_parse_exception', 'reason': \"Non-standard token 'NaN': enable `JsonReadFeature.ALLOW_NON_NUMERIC_NUMBERS` to allow\\n at [Source: (ByteArrayInputStream); line: 1, column: 49]\"}}, 'data': {'uid': 617, 'age': 54.0, 'city': 'porto', 'state': nan, 'country': 'portugal'}}}\n",
      "{'index': {'_index': 'users', '_type': '_doc', '_id': '6MtIYYoBtM9dJ2x11-0a', 'status': 400, 'error': {'type': 'mapper_parsing_exception', 'reason': 'failed to parse', 'caused_by': {'type': 'json_parse_exception', 'reason': \"Non-standard token 'NaN': enable `JsonReadFeature.ALLOW_NON_NUMERIC_NUMBERS` to allow\\n at [Source: (ByteArrayInputStream); line: 1, column: 49]\"}}, 'data': {'uid': 630, 'age': 33.0, 'city': 'paris', 'state': nan, 'country': 'france'}}}\n"
     ]
    },
    {
     "name": "stderr",
     "output_type": "stream",
     "text": [
      "C:\\Users\\georg\\AppData\\Local\\Temp\\ipykernel_23068\\533982557.py:4: ElasticsearchWarning: Elasticsearch built-in security features are not enabled. Without authentication, your cluster could be accessible to anyone. See https://www.elastic.co/guide/en/elasticsearch/reference/7.17/security-minimal-setup.html to enable security.\n",
      "  helpers.bulk(es, util.index_data(user_records, 'users'))\n"
     ]
    }
   ],
   "source": [
    "user_records = pd.read_csv('../data/pp_users.csv').to_dict(orient='records')\n",
    "\n",
    "try:\n",
    "    helpers.bulk(es, util.index_data(user_records, 'users'))\n",
    "except helpers.BulkIndexError as e:\n",
    "    for error in e.errors:\n",
    "        print(error)"
   ],
   "metadata": {
    "collapsed": false,
    "ExecuteTime": {
     "end_time": "2023-09-04T17:41:18.282532400Z",
     "start_time": "2023-09-04T17:41:17.600002700Z"
    }
   },
   "id": "a491be766ac4c596"
  },
  {
   "cell_type": "code",
   "execution_count": 13,
   "outputs": [
    {
     "name": "stderr",
     "output_type": "stream",
     "text": [
      "C:\\Users\\georg\\AppData\\Local\\Temp\\ipykernel_23068\\811896820.py:2: ElasticsearchWarning: Elasticsearch built-in security features are not enabled. Without authentication, your cluster could be accessible to anyone. See https://www.elastic.co/guide/en/elasticsearch/reference/7.17/security-minimal-setup.html to enable security.\n",
      "  helpers.bulk(es, util.index_data(rating_records, 'ratings'))\n",
      "\n",
      "KeyboardInterrupt\n",
      "\n"
     ]
    }
   ],
   "source": [
    "rating_records = pd.read_csv('../data/ratings.csv').to_dict(orient='records')\n",
    "helpers.bulk(es, util.index_data(rating_records, 'ratings'))"
   ],
   "metadata": {
    "collapsed": false,
    "ExecuteTime": {
     "end_time": "2023-09-04T17:42:15.811103800Z",
     "start_time": "2023-09-04T17:41:18.276454600Z"
    }
   },
   "id": "72e62f899839191d"
  },
  {
   "cell_type": "code",
   "execution_count": null,
   "outputs": [],
   "source": [
    "term = input(\"Enter search term: \")\n",
    "user_id = input(\"Enter user ID: \")\n",
    "\n",
    "results = util.search_books(es, term, user_id)\n",
    "\n",
    "for book, score, es_score, user_rating in results:\n",
    "    print(f\"{book['book_title']} - {book['book_author']} - {score} - {es_score} - {user_rating}\")"
   ],
   "metadata": {
    "collapsed": false,
    "ExecuteTime": {
     "start_time": "2023-09-04T17:42:15.965014800Z"
    }
   },
   "id": "42d9ca9d2c2281d0"
  }
 ],
 "metadata": {
  "kernelspec": {
   "display_name": "Python 3",
   "language": "python",
   "name": "python3"
  },
  "language_info": {
   "codemirror_mode": {
    "name": "ipython",
    "version": 2
   },
   "file_extension": ".py",
   "mimetype": "text/x-python",
   "name": "python",
   "nbconvert_exporter": "python",
   "pygments_lexer": "ipython2",
   "version": "2.7.6"
  }
 },
 "nbformat": 4,
 "nbformat_minor": 5
}
