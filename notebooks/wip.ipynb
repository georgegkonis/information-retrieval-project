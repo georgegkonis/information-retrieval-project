{
 "cells": [
  {
   "cell_type": "code",
   "execution_count": null,
   "id": "initial_id",
   "metadata": {
    "collapsed": true
   },
   "outputs": [],
   "source": [
    "from elasticsearch import Elasticsearch, helpers\n",
    "import utils.util as util\n",
    "\n",
    "es = Elasticsearch([{'host': 'localhost', 'port': 9200, 'scheme': 'http'}])\n",
    "merged_records = merged_df.to_dict(orient='records')\n",
    "helpers.bulk(es, util.index_data(merged_records, index='cluster_ratings'))\n",
    "\n",
    "index_name = \"cluster_ratings\"\n",
    "\n",
    "# The Elasticsearch query\n",
    "response = es.search(index=index_name, body={\n",
    "    \"size\": 0,\n",
    "    \"aggs\": {\n",
    "        \"by_cluster\": {\n",
    "            \"terms\": {\n",
    "                \"field\": \"cluster\",\n",
    "                \"size\": 200\n",
    "            },\n",
    "            \"aggs\": {\n",
    "                \"by_isbn\": {\n",
    "                    \"terms\": {\n",
    "                        \"field\": \"isbn\",\n",
    "                        \"size\": 10000\n",
    "                    },\n",
    "                    \"aggs\": {\n",
    "                        \"avg_rating\": {\n",
    "                            \"avg\": {\n",
    "                                \"field\": \"rating\"\n",
    "                            }\n",
    "                        }\n",
    "                    }\n",
    "                }\n",
    "            }\n",
    "        }\n",
    "    }\n",
    "})\n",
    "\n",
    "# Parse results\n",
    "clusters = response['aggregations']['by_cluster']['buckets']\n",
    "\n",
    "# To extract meaningful information:\n",
    "for cluster in clusters:\n",
    "    cluster_id = cluster['key']\n",
    "    books = cluster['by_isbn']['buckets']\n",
    "    for book in books:\n",
    "        isbn = book['key']\n",
    "        avg_rating = book['avg_rating']['value']\n",
    "        print(f\"Cluster: {cluster_id}, ISBN: {isbn}, Avg Rating: {avg_rating}\")"
   ]
  }
 ],
 "metadata": {
  "kernelspec": {
   "display_name": "Python 3",
   "language": "python",
   "name": "python3"
  },
  "language_info": {
   "codemirror_mode": {
    "name": "ipython",
    "version": 2
   },
   "file_extension": ".py",
   "mimetype": "text/x-python",
   "name": "python",
   "nbconvert_exporter": "python",
   "pygments_lexer": "ipython2",
   "version": "2.7.6"
  }
 },
 "nbformat": 4,
 "nbformat_minor": 5
}
