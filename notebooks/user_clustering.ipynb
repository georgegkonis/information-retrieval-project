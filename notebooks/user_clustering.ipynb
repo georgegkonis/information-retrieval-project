{
 "cells": [
  {
   "cell_type": "code",
   "execution_count": null,
   "id": "893fdb0672df1930",
   "metadata": {
    "collapsed": true
   },
   "outputs": [],
   "source": [
    "import pandas as pd\n",
    "import matplotlib.pyplot as plt\n",
    "import seaborn as sns\n",
    "from sklearn.cluster import KMeans\n",
    "from sklearn.preprocessing import LabelEncoder, StandardScaler\n",
    "from kneed import KneeLocator"
   ]
  },
  {
   "cell_type": "code",
   "execution_count": null,
   "outputs": [],
   "source": [
    "users_df = pd.read_csv('../data/pp_users.csv')\n",
    "users_df"
   ],
   "metadata": {
    "collapsed": false
   },
   "id": "9729987d65e8f429"
  },
  {
   "cell_type": "code",
   "execution_count": null,
   "outputs": [],
   "source": [
    "clusters_df = users_df.copy()\n",
    "\n",
    "# Convert 'country' into numerical format\n",
    "label_enc = LabelEncoder()\n",
    "clusters_df['country_enc'] = label_enc.fit_transform(users_df['country'])\n",
    "\n",
    "# Select features for clustering\n",
    "X = clusters_df[['age', 'country_enc']]\n",
    "\n",
    "# Scale the features\n",
    "scaler = StandardScaler()\n",
    "X_scaled = scaler.fit_transform(X)"
   ],
   "metadata": {
    "collapsed": false
   },
   "id": "3493304192ed7761"
  },
  {
   "cell_type": "code",
   "execution_count": null,
   "outputs": [],
   "source": [
    "# Determine the optimal number of clusters (k) using the elbow method\n",
    "cluster_range = range(1, 20)\n",
    "wcss = []\n",
    "for i in cluster_range:\n",
    "    kmeans = KMeans(n_clusters=i, init='k-means++', max_iter=300, n_init=10, random_state=42)\n",
    "    kmeans.fit(X_scaled)\n",
    "    wcss.append(kmeans.inertia_)"
   ],
   "metadata": {
    "collapsed": false
   },
   "id": "ca72d1563694ddb6"
  },
  {
   "cell_type": "code",
   "execution_count": null,
   "outputs": [],
   "source": [
    "# Use KneeLocator to find the elbow point\n",
    "kl = KneeLocator(cluster_range, wcss, curve=\"convex\", direction=\"decreasing\")\n",
    "k = kl.elbow"
   ],
   "metadata": {
    "collapsed": false
   },
   "id": "f2fcfd26582b4b17"
  },
  {
   "cell_type": "code",
   "execution_count": null,
   "outputs": [],
   "source": [
    "# Manually set the number of clusters\n",
    "k = 10"
   ],
   "metadata": {
    "collapsed": false
   },
   "id": "4d91af94d9fc3e1e"
  },
  {
   "cell_type": "code",
   "execution_count": null,
   "outputs": [],
   "source": [
    "# Plot the WCSS values\n",
    "plt.figure(figsize=(10, 6))\n",
    "plt.plot(cluster_range, wcss, marker='o', linestyle='--')\n",
    "plt.xticks(cluster_range)\n",
    "plt.title('Elbow Method')\n",
    "plt.xlabel('Number of clusters')\n",
    "plt.ylabel('WCSS')\n",
    "plt.grid(True)\n",
    "\n",
    "# Highlight the elbow point\n",
    "plt.scatter(k, wcss[k - 1], color='red', s=100, label='Elbow Point')\n",
    "plt.legend()\n",
    "\n",
    "plt.show()"
   ],
   "metadata": {
    "collapsed": false
   },
   "id": "6dd6969f5aaf8582"
  },
  {
   "cell_type": "code",
   "execution_count": null,
   "outputs": [],
   "source": [
    "# Perform clustering on valid users\n",
    "kmeans = KMeans(n_clusters=k, init='k-means++', max_iter=300, n_init=10, random_state=0)\n",
    "clusters = kmeans.fit_predict(X_scaled)\n",
    "\n",
    "# Map the clusters back to the valid_users\n",
    "clusters_df['cluster'] = clusters\n",
    "clusters_df.sort_values(by='cluster', inplace=True)\n",
    "\n",
    "clusters_df"
   ],
   "metadata": {
    "collapsed": false
   },
   "id": "19f8ae5e13fff8fb"
  },
  {
   "cell_type": "code",
   "execution_count": null,
   "outputs": [],
   "source": [
    "plt.figure(figsize=(10, 6))\n",
    "\n",
    "sns.scatterplot(\n",
    "    x=clusters_df['age'],\n",
    "    y=clusters_df['country_enc'],\n",
    "    hue=clusters_df['cluster'],\n",
    "    palette=\"deep\",\n",
    "    edgecolor=\".6\")\n",
    "\n",
    "plt.title('User Clusters based on Age and Country')\n",
    "plt.xlabel('Age')\n",
    "plt.ylabel('Encoded Country')\n",
    "plt.legend(title='Cluster')\n",
    "plt.grid(True)\n",
    "\n",
    "plt.show()"
   ],
   "metadata": {
    "collapsed": false
   },
   "id": "f7998314c83aff52"
  },
  {
   "cell_type": "code",
   "execution_count": null,
   "outputs": [],
   "source": [
    "clusters_df.drop(columns=['country_enc']).to_csv('../data/clusters.csv', index=False)"
   ],
   "metadata": {
    "collapsed": false
   },
   "id": "ad0223a2db405af7"
  }
 ],
 "metadata": {
  "kernelspec": {
   "display_name": "Python 3",
   "language": "python",
   "name": "python3"
  },
  "language_info": {
   "codemirror_mode": {
    "name": "ipython",
    "version": 2
   },
   "file_extension": ".py",
   "mimetype": "text/x-python",
   "name": "python",
   "nbconvert_exporter": "python",
   "pygments_lexer": "ipython2",
   "version": "2.7.6"
  }
 },
 "nbformat": 4,
 "nbformat_minor": 5
}
