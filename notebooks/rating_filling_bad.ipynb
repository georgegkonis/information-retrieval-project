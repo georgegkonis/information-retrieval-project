{
 "cells": [
  {
   "cell_type": "code",
   "execution_count": null,
   "id": "ea56a9b64c26f6f7",
   "metadata": {
    "collapsed": true
   },
   "outputs": [],
   "source": [
    "import pandas as pd"
   ]
  },
  {
   "cell_type": "code",
   "execution_count": null,
   "outputs": [],
   "source": [
    "ratings_df = pd.read_csv('../data/ratings.csv')\n",
    "clusters_df = pd.read_csv('../data/clustered_users.csv')"
   ],
   "metadata": {
    "collapsed": false
   },
   "id": "3d051d8bdfbfe791"
  },
  {
   "cell_type": "code",
   "execution_count": null,
   "outputs": [],
   "source": [
    "clustered_ratings_df = pd.merge(ratings_df, clusters_df[['uid', 'cluster']], on='uid').sort_values(by=['uid', 'isbn'])\n",
    "clustered_ratings_df.reset_index(inplace=True, drop=True)\n",
    "\n",
    "clustered_ratings_df.to_csv('../data/clustered_ratings.csv', index=False)\n",
    "\n",
    "clustered_ratings_df"
   ],
   "metadata": {
    "collapsed": false
   },
   "id": "a0149047b889ffe9"
  },
  {
   "cell_type": "code",
   "execution_count": null,
   "outputs": [],
   "source": [
    "book_cluster_ratings = {}\n",
    "for index, row in clustered_ratings_df.iterrows():\n",
    "    isbn = row['isbn']\n",
    "    cluster = row['cluster']\n",
    "    rating = row['rating']\n",
    "\n",
    "    if isbn not in book_cluster_ratings:\n",
    "        book_cluster_ratings[isbn] = {}\n",
    "\n",
    "    if cluster not in book_cluster_ratings[isbn]:\n",
    "        book_cluster_ratings[isbn][cluster] = []\n",
    "\n",
    "    book_cluster_ratings[isbn][cluster].append(rating)\n",
    "\n",
    "book_cluster_ratings"
   ],
   "metadata": {
    "collapsed": false
   },
   "id": "cf43853ae42e7d8e"
  },
  {
   "cell_type": "code",
   "execution_count": null,
   "outputs": [],
   "source": [
    "book_cluster_avg_ratings = {}\n",
    "for isbn in book_cluster_ratings:\n",
    "    book_cluster_avg_ratings[isbn] = {}\n",
    "    for cluster in book_cluster_ratings[isbn]:\n",
    "        avg_rating = sum(book_cluster_ratings[isbn][cluster]) / len(book_cluster_ratings[isbn][cluster])\n",
    "        book_cluster_avg_ratings[isbn][cluster] = round(avg_rating, 1)\n",
    "\n",
    "book_cluster_avg_ratings"
   ],
   "metadata": {
    "collapsed": false
   },
   "id": "115d49fa9930c383"
  },
  {
   "cell_type": "code",
   "execution_count": null,
   "outputs": [],
   "source": [
    "user_book_ratings = {}\n",
    "for index, row in clustered_ratings_df.iterrows():\n",
    "    uid = row['uid']\n",
    "    isbn = row['isbn']\n",
    "    rating = row['rating']\n",
    "\n",
    "    if uid not in user_book_ratings:\n",
    "        user_book_ratings[uid] = {}\n",
    "\n",
    "    user_book_ratings[uid][isbn] = rating\n",
    "\n",
    "user_book_ratings"
   ],
   "metadata": {
    "collapsed": false
   },
   "id": "abe21c5815e862f1"
  },
  {
   "cell_type": "code",
   "execution_count": null,
   "outputs": [],
   "source": [
    "cluster_book_avg_ratings = {}\n",
    "for isbn in book_cluster_avg_ratings:\n",
    "    for cluster in book_cluster_avg_ratings[isbn]:\n",
    "        if cluster not in cluster_book_avg_ratings:\n",
    "            cluster_book_avg_ratings[cluster] = {}\n",
    "\n",
    "        cluster_book_avg_ratings[cluster][isbn] = book_cluster_avg_ratings[isbn][cluster]\n",
    "\n",
    "cluster_book_avg_ratings"
   ],
   "metadata": {
    "collapsed": false
   },
   "id": "38c33c4df5a66672"
  },
  {
   "cell_type": "code",
   "execution_count": null,
   "outputs": [],
   "source": [
    "user_clusters = {}\n",
    "for index, row in clusters_df.iterrows():\n",
    "    uid = row['uid']\n",
    "    cluster = row['cluster']\n",
    "\n",
    "    user_clusters[uid] = cluster\n",
    "\n",
    "user_clusters"
   ],
   "metadata": {
    "collapsed": false
   },
   "id": "f4fcf4ba0c43fac3"
  },
  {
   "cell_type": "code",
   "execution_count": null,
   "outputs": [],
   "source": [
    "user_cluster_ratings = {}\n",
    "for uid in user_clusters:\n",
    "    cluster = user_clusters[uid]\n",
    "    user_cluster_ratings[uid] = cluster_book_avg_ratings[cluster]\n",
    "\n",
    "user_cluster_ratings"
   ],
   "metadata": {
    "collapsed": false
   },
   "id": "89722faf2fbd8084"
  },
  {
   "cell_type": "code",
   "execution_count": null,
   "outputs": [],
   "source": [
    "user_combined_ratings = user_cluster_ratings.copy()\n",
    "\n",
    "# Populate user_combined_ratings with users' own ratings\n",
    "for uid in user_book_ratings:\n",
    "    for isbn, rating in user_book_ratings[uid].items():\n",
    "        user_combined_ratings[uid][isbn] = rating\n",
    "        \n",
    "user_combined_ratings"
   ],
   "metadata": {
    "collapsed": false
   },
   "id": "initial_id"
  },
  {
   "cell_type": "code",
   "execution_count": null,
   "outputs": [],
   "source": [
    "def generate_df_from_dict(user_combined_ratings, chunk_size=10000):\n",
    "    # This function will yield chunks of DataFrames from the dictionary\n",
    "    records = []\n",
    "    for uid, books in user_combined_ratings.items():\n",
    "        for isbn, rating in books.items():\n",
    "            records.append({'uid': uid, 'isbn': isbn, 'rating': rating})\n",
    "            if len(records) == chunk_size:\n",
    "                yield pd.DataFrame(records)\n",
    "                records = []\n",
    "    if records:  # Handling the last chunk which might be less than chunk_size\n",
    "        yield pd.DataFrame(records)"
   ],
   "metadata": {
    "collapsed": false
   },
   "id": "75ee5cad0123740b"
  },
  {
   "cell_type": "code",
   "execution_count": null,
   "outputs": [],
   "source": [
    "# Specify the output CSV file path\n",
    "output_path = '../data/combined_ratings.csv'\n",
    "\n",
    "# Write the first chunk and set the CSV headers\n",
    "first_chunk = True\n",
    "for df_chunk in generate_df_from_dict(user_combined_ratings):\n",
    "    if first_chunk:\n",
    "        df_chunk.to_csv(output_path, index=False, mode='w') # 'w' mode will overwrite the existing file\n",
    "        first_chunk = False\n",
    "    else:\n",
    "        df_chunk.to_csv(output_path, index=False, mode='a', header=False) # 'a' mode will append to the file"
   ],
   "metadata": {
    "collapsed": false
   },
   "id": "ca9c54b6e92bb98c"
  }
 ],
 "metadata": {
  "kernelspec": {
   "display_name": "Python 3",
   "language": "python",
   "name": "python3"
  },
  "language_info": {
   "codemirror_mode": {
    "name": "ipython",
    "version": 2
   },
   "file_extension": ".py",
   "mimetype": "text/x-python",
   "name": "python",
   "nbconvert_exporter": "python",
   "pygments_lexer": "ipython2",
   "version": "2.7.6"
  }
 },
 "nbformat": 4,
 "nbformat_minor": 5
}
