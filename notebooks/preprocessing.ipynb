{
 "cells": [
  {
   "cell_type": "code",
   "execution_count": 1,
   "id": "6d727a16a63fed06",
   "metadata": {
    "collapsed": true,
    "ExecuteTime": {
     "end_time": "2023-09-04T18:02:53.135280600Z",
     "start_time": "2023-09-04T18:02:52.402541500Z"
    }
   },
   "outputs": [],
   "source": [
    "import pandas as pd"
   ]
  },
  {
   "cell_type": "code",
   "execution_count": 2,
   "outputs": [
    {
     "data": {
      "text/plain": "           uid   age         city            state         country\n0            1  -1.0          nyc         new york             usa\n1            2  18.0     stockton       california             usa\n2            3  -1.0       moscow  yukon territory          russia\n3            4  17.0        porto         v.n.gaia        portugal\n4            5  -1.0  farnborough            hants  united kingdom\n...        ...   ...          ...              ...             ...\n206442  278853  17.0    stranraer          UNKNOWN  united kingdom\n206443  278855  50.0       tacoma       washington  united kingdom\n206444  278856  -1.0     brampton          ontario          canada\n206445  278857  -1.0    knoxville        tennessee             usa\n206446  278858  -1.0       dublin          UNKNOWN         ireland\n\n[206447 rows x 5 columns]",
      "text/html": "<div>\n<style scoped>\n    .dataframe tbody tr th:only-of-type {\n        vertical-align: middle;\n    }\n\n    .dataframe tbody tr th {\n        vertical-align: top;\n    }\n\n    .dataframe thead th {\n        text-align: right;\n    }\n</style>\n<table border=\"1\" class=\"dataframe\">\n  <thead>\n    <tr style=\"text-align: right;\">\n      <th></th>\n      <th>uid</th>\n      <th>age</th>\n      <th>city</th>\n      <th>state</th>\n      <th>country</th>\n    </tr>\n  </thead>\n  <tbody>\n    <tr>\n      <th>0</th>\n      <td>1</td>\n      <td>-1.0</td>\n      <td>nyc</td>\n      <td>new york</td>\n      <td>usa</td>\n    </tr>\n    <tr>\n      <th>1</th>\n      <td>2</td>\n      <td>18.0</td>\n      <td>stockton</td>\n      <td>california</td>\n      <td>usa</td>\n    </tr>\n    <tr>\n      <th>2</th>\n      <td>3</td>\n      <td>-1.0</td>\n      <td>moscow</td>\n      <td>yukon territory</td>\n      <td>russia</td>\n    </tr>\n    <tr>\n      <th>3</th>\n      <td>4</td>\n      <td>17.0</td>\n      <td>porto</td>\n      <td>v.n.gaia</td>\n      <td>portugal</td>\n    </tr>\n    <tr>\n      <th>4</th>\n      <td>5</td>\n      <td>-1.0</td>\n      <td>farnborough</td>\n      <td>hants</td>\n      <td>united kingdom</td>\n    </tr>\n    <tr>\n      <th>...</th>\n      <td>...</td>\n      <td>...</td>\n      <td>...</td>\n      <td>...</td>\n      <td>...</td>\n    </tr>\n    <tr>\n      <th>206442</th>\n      <td>278853</td>\n      <td>17.0</td>\n      <td>stranraer</td>\n      <td>UNKNOWN</td>\n      <td>united kingdom</td>\n    </tr>\n    <tr>\n      <th>206443</th>\n      <td>278855</td>\n      <td>50.0</td>\n      <td>tacoma</td>\n      <td>washington</td>\n      <td>united kingdom</td>\n    </tr>\n    <tr>\n      <th>206444</th>\n      <td>278856</td>\n      <td>-1.0</td>\n      <td>brampton</td>\n      <td>ontario</td>\n      <td>canada</td>\n    </tr>\n    <tr>\n      <th>206445</th>\n      <td>278857</td>\n      <td>-1.0</td>\n      <td>knoxville</td>\n      <td>tennessee</td>\n      <td>usa</td>\n    </tr>\n    <tr>\n      <th>206446</th>\n      <td>278858</td>\n      <td>-1.0</td>\n      <td>dublin</td>\n      <td>UNKNOWN</td>\n      <td>ireland</td>\n    </tr>\n  </tbody>\n</table>\n<p>206447 rows × 5 columns</p>\n</div>"
     },
     "execution_count": 2,
     "metadata": {},
     "output_type": "execute_result"
    }
   ],
   "source": [
    "users_df = pd.read_csv('../data/users.csv')\n",
    "\n",
    "users_df['age'].fillna(-1, inplace=True)\n",
    "\n",
    "split_location = users_df['location'].str.split(',', expand=True)\n",
    "\n",
    "split_location = split_location.apply(lambda x: x.str.replace('\"', '')\n",
    "                                      .str.replace('\\n', 'n')\n",
    "                                      .str.replace('\\\\', ' ')\n",
    "                                      .str.replace('n /', 'n/')\n",
    "                                      .str.strip())\n",
    "split_location.replace('', 'n/a', inplace=True)\n",
    "split_location.fillna('n/a', inplace=True)\n",
    "\n",
    "split_location.replace('n/a', 'UNKNOWN', inplace=True)\n",
    "\n",
    "users_df['city'] = split_location[0]\n",
    "users_df['state'] = split_location[1]\n",
    "users_df['country'] = split_location[2]\n",
    "\n",
    "users_df.drop(columns=['location'], inplace=True)\n",
    "\n",
    "users_df.to_csv('../data/pp_users.csv', index=False)\n",
    "\n",
    "users_df"
   ],
   "metadata": {
    "collapsed": false,
    "ExecuteTime": {
     "end_time": "2023-09-04T18:02:55.322500400Z",
     "start_time": "2023-09-04T18:02:53.138286500Z"
    }
   },
   "id": "184da608375d2b58"
  },
  {
   "cell_type": "code",
   "execution_count": 3,
   "outputs": [
    {
     "data": {
      "text/plain": "              isbn                                         book_title  \\\n0       0195153448                                Classical Mythology   \n1       0002005018                                       Clara Callan   \n2       0060973129                               Decision in Normandy   \n3       0374157065  Flu: The Story of the Great Influenza Pandemic...   \n4       0393045218                             The Mummies of Urumchi   \n...            ...                                                ...   \n134687  0312266448  The Military Quotation Book : Revised and Expa...   \n134688  067161746X  The Bachelor Home Companion: A Practical Guide...   \n134689  0743203763  As Hogan Said . . . : The 389 Best Things Anyo...   \n134690  0767907566  All Elevations Unknown: An Adventure in the He...   \n134691  0912333022  The Are You Being Served? Stories: 'Camping In...   \n\n                 book_author  year_of_publication                publisher  \\\n0         Mark P. O. Morford                 2002  Oxford University Press   \n1       Richard Bruce Wright                 2001    HarperFlamingo Canada   \n2               Carlo D'Este                 1991          HarperPerennial   \n3           Gina Bari Kolata                 1999     Farrar Straus Giroux   \n4            E. J. W. Barber                 1999   W. W. Norton & Company   \n...                      ...                  ...                      ...   \n134687        James Charlton                 2002       Thomas Dunne Books   \n134688         P.J. O'Rourke                 1987             Pocket Books   \n134689        Randy Voorhees                 2000         Simon & Schuster   \n134690          Sam Lightner                 2001           Broadway Books   \n134691          Jeremy Lloyd                 1997               Kqed Books   \n\n                                                  summary        category  \n0       Provides an introduction to classical myths pl...  social science  \n1       In a small town in Canada, Clara Callan reluct...       actresses  \n2       Here, for the first time in paperback, is an o...       1940-1949  \n3       Describes the great flu epidemic of 1918, an o...         medical  \n4       A look at the incredibly well-preserved ancien...          design  \n...                                                   ...             ...  \n134687  Contains more than 1,200 quotations about war,...       reference  \n134688  A tongue-in-cheek survival guide for single pe...           humor  \n134689  Golf lovers will revel in this collection of t...           humor  \n134690  A daring twist on the travel-adventure genre t...          nature  \n134691  These hilarious stories by the creator of publ...         fiction  \n\n[134692 rows x 7 columns]",
      "text/html": "<div>\n<style scoped>\n    .dataframe tbody tr th:only-of-type {\n        vertical-align: middle;\n    }\n\n    .dataframe tbody tr th {\n        vertical-align: top;\n    }\n\n    .dataframe thead th {\n        text-align: right;\n    }\n</style>\n<table border=\"1\" class=\"dataframe\">\n  <thead>\n    <tr style=\"text-align: right;\">\n      <th></th>\n      <th>isbn</th>\n      <th>book_title</th>\n      <th>book_author</th>\n      <th>year_of_publication</th>\n      <th>publisher</th>\n      <th>summary</th>\n      <th>category</th>\n    </tr>\n  </thead>\n  <tbody>\n    <tr>\n      <th>0</th>\n      <td>0195153448</td>\n      <td>Classical Mythology</td>\n      <td>Mark P. O. Morford</td>\n      <td>2002</td>\n      <td>Oxford University Press</td>\n      <td>Provides an introduction to classical myths pl...</td>\n      <td>social science</td>\n    </tr>\n    <tr>\n      <th>1</th>\n      <td>0002005018</td>\n      <td>Clara Callan</td>\n      <td>Richard Bruce Wright</td>\n      <td>2001</td>\n      <td>HarperFlamingo Canada</td>\n      <td>In a small town in Canada, Clara Callan reluct...</td>\n      <td>actresses</td>\n    </tr>\n    <tr>\n      <th>2</th>\n      <td>0060973129</td>\n      <td>Decision in Normandy</td>\n      <td>Carlo D'Este</td>\n      <td>1991</td>\n      <td>HarperPerennial</td>\n      <td>Here, for the first time in paperback, is an o...</td>\n      <td>1940-1949</td>\n    </tr>\n    <tr>\n      <th>3</th>\n      <td>0374157065</td>\n      <td>Flu: The Story of the Great Influenza Pandemic...</td>\n      <td>Gina Bari Kolata</td>\n      <td>1999</td>\n      <td>Farrar Straus Giroux</td>\n      <td>Describes the great flu epidemic of 1918, an o...</td>\n      <td>medical</td>\n    </tr>\n    <tr>\n      <th>4</th>\n      <td>0393045218</td>\n      <td>The Mummies of Urumchi</td>\n      <td>E. J. W. Barber</td>\n      <td>1999</td>\n      <td>W. W. Norton &amp; Company</td>\n      <td>A look at the incredibly well-preserved ancien...</td>\n      <td>design</td>\n    </tr>\n    <tr>\n      <th>...</th>\n      <td>...</td>\n      <td>...</td>\n      <td>...</td>\n      <td>...</td>\n      <td>...</td>\n      <td>...</td>\n      <td>...</td>\n    </tr>\n    <tr>\n      <th>134687</th>\n      <td>0312266448</td>\n      <td>The Military Quotation Book : Revised and Expa...</td>\n      <td>James Charlton</td>\n      <td>2002</td>\n      <td>Thomas Dunne Books</td>\n      <td>Contains more than 1,200 quotations about war,...</td>\n      <td>reference</td>\n    </tr>\n    <tr>\n      <th>134688</th>\n      <td>067161746X</td>\n      <td>The Bachelor Home Companion: A Practical Guide...</td>\n      <td>P.J. O'Rourke</td>\n      <td>1987</td>\n      <td>Pocket Books</td>\n      <td>A tongue-in-cheek survival guide for single pe...</td>\n      <td>humor</td>\n    </tr>\n    <tr>\n      <th>134689</th>\n      <td>0743203763</td>\n      <td>As Hogan Said . . . : The 389 Best Things Anyo...</td>\n      <td>Randy Voorhees</td>\n      <td>2000</td>\n      <td>Simon &amp; Schuster</td>\n      <td>Golf lovers will revel in this collection of t...</td>\n      <td>humor</td>\n    </tr>\n    <tr>\n      <th>134690</th>\n      <td>0767907566</td>\n      <td>All Elevations Unknown: An Adventure in the He...</td>\n      <td>Sam Lightner</td>\n      <td>2001</td>\n      <td>Broadway Books</td>\n      <td>A daring twist on the travel-adventure genre t...</td>\n      <td>nature</td>\n    </tr>\n    <tr>\n      <th>134691</th>\n      <td>0912333022</td>\n      <td>The Are You Being Served? Stories: 'Camping In...</td>\n      <td>Jeremy Lloyd</td>\n      <td>1997</td>\n      <td>Kqed Books</td>\n      <td>These hilarious stories by the creator of publ...</td>\n      <td>fiction</td>\n    </tr>\n  </tbody>\n</table>\n<p>134692 rows × 7 columns</p>\n</div>"
     },
     "execution_count": 3,
     "metadata": {},
     "output_type": "execute_result"
    }
   ],
   "source": [
    "books_df = pd.read_csv('../data/books.csv')\n",
    "\n",
    "books_df['summary'] = books_df['summary'].str.replace(\"\\n\", \" \").str.strip()\n",
    "books_df['category'] = books_df['category'].apply(lambda x: eval(x)[0] if isinstance(x, str) else x)\n",
    "\n",
    "books_df.to_csv('../data/pp_books.csv', index=False)\n",
    "\n",
    "books_df"
   ],
   "metadata": {
    "collapsed": false,
    "ExecuteTime": {
     "end_time": "2023-09-04T18:02:58.170787700Z",
     "start_time": "2023-09-04T18:02:55.322500400Z"
    }
   },
   "id": "bb2b6f01105439ce"
  }
 ],
 "metadata": {
  "kernelspec": {
   "display_name": "Python 3",
   "language": "python",
   "name": "python3"
  },
  "language_info": {
   "codemirror_mode": {
    "name": "ipython",
    "version": 2
   },
   "file_extension": ".py",
   "mimetype": "text/x-python",
   "name": "python",
   "nbconvert_exporter": "python",
   "pygments_lexer": "ipython2",
   "version": "2.7.6"
  }
 },
 "nbformat": 4,
 "nbformat_minor": 5
}
