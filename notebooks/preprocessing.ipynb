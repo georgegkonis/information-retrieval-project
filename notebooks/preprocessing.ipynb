{
 "cells": [
  {
   "cell_type": "code",
   "execution_count": null,
   "id": "a421c050ee590ba5",
   "metadata": {
    "collapsed": true
   },
   "outputs": [],
   "source": [
    "import pandas as pd\n",
    "import re"
   ]
  },
  {
   "cell_type": "code",
   "execution_count": null,
   "outputs": [],
   "source": [
    "def extract_country(location):\n",
    "    # Match anything after the last comma\n",
    "    match = re.search(r', ([^,]+)$', location)\n",
    "    if match:\n",
    "        country = match.group(1)\n",
    "        # Remove any non-alphanumeric characters except for spaces and dashes\n",
    "        cleaned_country = re.sub(r'[^a-zA-Z\\s-]', '', country)\n",
    "        return cleaned_country.strip()\n",
    "    return ''"
   ],
   "metadata": {
    "collapsed": false
   },
   "id": "6db961014819db1a"
  },
  {
   "cell_type": "code",
   "execution_count": null,
   "outputs": [],
   "source": [
    "users_df = pd.read_csv('../data/users.csv')\n",
    "\n",
    "mean_age = users_df['age'].mean(numeric_only=True).round(0)\n",
    "users_df['age'].fillna(mean_age, inplace=True)\n",
    "users_df['age'] = users_df['age'].astype(int)\n",
    "\n",
    "users_df['country'] = users_df['location'].apply(extract_country)\n",
    "users_df['country'].replace('', 'unknown', inplace=True)  # Replaces empty strings with 'unknown'\n",
    "users_df.drop(columns=['location'], inplace=True)\n",
    "\n",
    "users_df.to_csv('../data/pp_users.csv', index=False)\n",
    "users_df"
   ],
   "metadata": {
    "collapsed": false
   },
   "id": "184da608375d2b58"
  },
  {
   "cell_type": "code",
   "execution_count": null,
   "outputs": [],
   "source": [
    "books_df = pd.read_csv('../data/books.csv')\n",
    "\n",
    "books_df['summary'] = books_df['summary'].str.replace(\"\\n\", \" \").str.strip()\n",
    "books_df['category'] = books_df['category'].apply(lambda x: eval(x)[0] if isinstance(x, str) else x)\n",
    "\n",
    "books_df.to_csv('../data/pp_books.csv', index=False)\n",
    "books_df"
   ],
   "metadata": {
    "collapsed": false
   },
   "id": "bb2b6f01105439ce"
  }
 ],
 "metadata": {
  "kernelspec": {
   "display_name": "Python 3",
   "language": "python",
   "name": "python3"
  },
  "language_info": {
   "codemirror_mode": {
    "name": "ipython",
    "version": 2
   },
   "file_extension": ".py",
   "mimetype": "text/x-python",
   "name": "python",
   "nbconvert_exporter": "python",
   "pygments_lexer": "ipython2",
   "version": "2.7.6"
  }
 },
 "nbformat": 4,
 "nbformat_minor": 5
}
